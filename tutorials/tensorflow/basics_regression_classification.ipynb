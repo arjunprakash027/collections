{
 "cells": [
  {
   "cell_type": "markdown",
   "id": "23b07bc2",
   "metadata": {},
   "source": [
    "# TENSORFLOW TUTORIAL\n"
   ]
  },
  {
   "cell_type": "code",
   "execution_count": 1,
   "id": "a8676bd4",
   "metadata": {},
   "outputs": [
    {
     "name": "stdout",
     "output_type": "stream",
     "text": [
      "Requirement already satisfied: tensorflow in c:\\users\\admin\\anaconda3\\lib\\site-packages (2.11.0)\n",
      "Requirement already satisfied: tensorflow-intel==2.11.0 in c:\\users\\admin\\anaconda3\\lib\\site-packages (from tensorflow) (2.11.0)\n",
      "Requirement already satisfied: google-pasta>=0.1.1 in c:\\users\\admin\\anaconda3\\lib\\site-packages (from tensorflow-intel==2.11.0->tensorflow) (0.2.0)\n",
      "Requirement already satisfied: opt-einsum>=2.3.2 in c:\\users\\admin\\anaconda3\\lib\\site-packages (from tensorflow-intel==2.11.0->tensorflow) (3.3.0)\n",
      "Requirement already satisfied: wrapt>=1.11.0 in c:\\users\\admin\\anaconda3\\lib\\site-packages (from tensorflow-intel==2.11.0->tensorflow) (1.14.1)\n",
      "Requirement already satisfied: keras<2.12,>=2.11.0 in c:\\users\\admin\\anaconda3\\lib\\site-packages (from tensorflow-intel==2.11.0->tensorflow) (2.11.0)\n",
      "Requirement already satisfied: h5py>=2.9.0 in c:\\users\\admin\\anaconda3\\lib\\site-packages (from tensorflow-intel==2.11.0->tensorflow) (3.7.0)\n",
      "Requirement already satisfied: packaging in c:\\users\\admin\\anaconda3\\lib\\site-packages (from tensorflow-intel==2.11.0->tensorflow) (20.3)\n",
      "Requirement already satisfied: tensorflow-estimator<2.12,>=2.11.0 in c:\\users\\admin\\anaconda3\\lib\\site-packages (from tensorflow-intel==2.11.0->tensorflow) (2.11.0)\n",
      "Requirement already satisfied: grpcio<2.0,>=1.24.3 in c:\\users\\admin\\anaconda3\\lib\\site-packages (from tensorflow-intel==2.11.0->tensorflow) (1.51.1)\n",
      "Requirement already satisfied: termcolor>=1.1.0 in c:\\users\\admin\\anaconda3\\lib\\site-packages (from tensorflow-intel==2.11.0->tensorflow) (1.1.0)\n",
      "Requirement already satisfied: flatbuffers>=2.0 in c:\\users\\admin\\anaconda3\\lib\\site-packages (from tensorflow-intel==2.11.0->tensorflow) (23.1.4)\n",
      "Requirement already satisfied: setuptools in c:\\users\\admin\\anaconda3\\lib\\site-packages (from tensorflow-intel==2.11.0->tensorflow) (62.6.0)\n",
      "Requirement already satisfied: tensorboard<2.12,>=2.11 in c:\\users\\admin\\anaconda3\\lib\\site-packages (from tensorflow-intel==2.11.0->tensorflow) (2.11.1)\n",
      "Requirement already satisfied: libclang>=13.0.0 in c:\\users\\admin\\anaconda3\\lib\\site-packages (from tensorflow-intel==2.11.0->tensorflow) (15.0.6.1)\n",
      "Requirement already satisfied: astunparse>=1.6.0 in c:\\users\\admin\\anaconda3\\lib\\site-packages (from tensorflow-intel==2.11.0->tensorflow) (1.6.3)\n",
      "Requirement already satisfied: numpy>=1.20 in c:\\users\\admin\\anaconda3\\lib\\site-packages (from tensorflow-intel==2.11.0->tensorflow) (1.21.5)\n",
      "Requirement already satisfied: tensorflow-io-gcs-filesystem>=0.23.1 in c:\\users\\admin\\anaconda3\\lib\\site-packages (from tensorflow-intel==2.11.0->tensorflow) (0.29.0)\n",
      "Requirement already satisfied: protobuf<3.20,>=3.9.2 in c:\\users\\admin\\anaconda3\\lib\\site-packages (from tensorflow-intel==2.11.0->tensorflow) (3.19.6)\n",
      "Requirement already satisfied: absl-py>=1.0.0 in c:\\users\\admin\\anaconda3\\lib\\site-packages (from tensorflow-intel==2.11.0->tensorflow) (1.4.0)\n",
      "Requirement already satisfied: gast<=0.4.0,>=0.2.1 in c:\\users\\admin\\anaconda3\\lib\\site-packages (from tensorflow-intel==2.11.0->tensorflow) (0.4.0)\n",
      "Requirement already satisfied: typing-extensions>=3.6.6 in c:\\users\\admin\\anaconda3\\lib\\site-packages (from tensorflow-intel==2.11.0->tensorflow) (4.3.0)\n",
      "Requirement already satisfied: six>=1.12.0 in c:\\users\\admin\\anaconda3\\lib\\site-packages (from tensorflow-intel==2.11.0->tensorflow) (1.16.0)\n",
      "Requirement already satisfied: wheel<1.0,>=0.23.0 in c:\\users\\admin\\anaconda3\\lib\\site-packages (from astunparse>=1.6.0->tensorflow-intel==2.11.0->tensorflow) (0.37.1)\n",
      "Requirement already satisfied: google-auth<3,>=1.6.3 in c:\\users\\admin\\anaconda3\\lib\\site-packages (from tensorboard<2.12,>=2.11->tensorflow-intel==2.11.0->tensorflow) (2.16.0)\n",
      "Requirement already satisfied: tensorboard-data-server<0.7.0,>=0.6.0 in c:\\users\\admin\\anaconda3\\lib\\site-packages (from tensorboard<2.12,>=2.11->tensorflow-intel==2.11.0->tensorflow) (0.6.1)\n",
      "Requirement already satisfied: werkzeug>=1.0.1 in c:\\users\\admin\\anaconda3\\lib\\site-packages (from tensorboard<2.12,>=2.11->tensorflow-intel==2.11.0->tensorflow) (1.0.1)\n",
      "Requirement already satisfied: google-auth-oauthlib<0.5,>=0.4.1 in c:\\users\\admin\\anaconda3\\lib\\site-packages (from tensorboard<2.12,>=2.11->tensorflow-intel==2.11.0->tensorflow) (0.4.6)\n",
      "Requirement already satisfied: markdown>=2.6.8 in c:\\users\\admin\\anaconda3\\lib\\site-packages (from tensorboard<2.12,>=2.11->tensorflow-intel==2.11.0->tensorflow) (3.2.1)\n",
      "Requirement already satisfied: requests<3,>=2.21.0 in c:\\users\\admin\\anaconda3\\lib\\site-packages (from tensorboard<2.12,>=2.11->tensorflow-intel==2.11.0->tensorflow) (2.28.1)\n",
      "Requirement already satisfied: tensorboard-plugin-wit>=1.6.0 in c:\\users\\admin\\anaconda3\\lib\\site-packages (from tensorboard<2.12,>=2.11->tensorflow-intel==2.11.0->tensorflow) (1.8.1)\n",
      "Requirement already satisfied: pyparsing>=2.0.2 in c:\\users\\admin\\anaconda3\\lib\\site-packages (from packaging->tensorflow-intel==2.11.0->tensorflow) (2.4.6)\n",
      "Requirement already satisfied: pyasn1-modules>=0.2.1 in c:\\users\\admin\\anaconda3\\lib\\site-packages (from google-auth<3,>=1.6.3->tensorboard<2.12,>=2.11->tensorflow-intel==2.11.0->tensorflow) (0.2.8)\n",
      "Requirement already satisfied: rsa<5,>=3.1.4 in c:\\users\\admin\\anaconda3\\lib\\site-packages (from google-auth<3,>=1.6.3->tensorboard<2.12,>=2.11->tensorflow-intel==2.11.0->tensorflow) (4.0)\n",
      "Requirement already satisfied: cachetools<6.0,>=2.0.0 in c:\\users\\admin\\anaconda3\\lib\\site-packages (from google-auth<3,>=1.6.3->tensorboard<2.12,>=2.11->tensorflow-intel==2.11.0->tensorflow) (4.0.0)\n",
      "Requirement already satisfied: requests-oauthlib>=0.7.0 in c:\\users\\admin\\anaconda3\\lib\\site-packages (from google-auth-oauthlib<0.5,>=0.4.1->tensorboard<2.12,>=2.11->tensorflow-intel==2.11.0->tensorflow) (1.3.1)\n",
      "Requirement already satisfied: certifi>=2017.4.17 in c:\\users\\admin\\anaconda3\\lib\\site-packages (from requests<3,>=2.21.0->tensorboard<2.12,>=2.11->tensorflow-intel==2.11.0->tensorflow) (2022.12.7)\n",
      "Requirement already satisfied: idna<4,>=2.5 in c:\\users\\admin\\anaconda3\\lib\\site-packages (from requests<3,>=2.21.0->tensorboard<2.12,>=2.11->tensorflow-intel==2.11.0->tensorflow) (2.8)\n",
      "Requirement already satisfied: charset-normalizer<3,>=2 in c:\\users\\admin\\anaconda3\\lib\\site-packages (from requests<3,>=2.21.0->tensorboard<2.12,>=2.11->tensorflow-intel==2.11.0->tensorflow) (2.0.4)\n",
      "Requirement already satisfied: urllib3<1.27,>=1.21.1 in c:\\users\\admin\\anaconda3\\lib\\site-packages (from requests<3,>=2.21.0->tensorboard<2.12,>=2.11->tensorflow-intel==2.11.0->tensorflow) (1.26.13)\n",
      "Requirement already satisfied: pyasn1<0.5.0,>=0.4.6 in c:\\users\\admin\\anaconda3\\lib\\site-packages (from pyasn1-modules>=0.2.1->google-auth<3,>=1.6.3->tensorboard<2.12,>=2.11->tensorflow-intel==2.11.0->tensorflow) (0.4.8)\n",
      "Requirement already satisfied: oauthlib>=3.0.0 in c:\\users\\admin\\anaconda3\\lib\\site-packages (from requests-oauthlib>=0.7.0->google-auth-oauthlib<0.5,>=0.4.1->tensorboard<2.12,>=2.11->tensorflow-intel==2.11.0->tensorflow) (3.1.0)\n",
      "Note: you may need to restart the kernel to use updated packages.\n"
     ]
    }
   ],
   "source": [
    "pip install tensorflow"
   ]
  },
  {
   "cell_type": "markdown",
   "id": "074d9617",
   "metadata": {},
   "source": [
    "importing tensorflow"
   ]
  },
  {
   "cell_type": "code",
   "execution_count": 2,
   "id": "1f96136e",
   "metadata": {},
   "outputs": [
    {
     "name": "stdout",
     "output_type": "stream",
     "text": [
      "<module 'tensorflow._api.v2.version' from 'c:\\\\Users\\\\Admin\\\\anaconda3\\\\lib\\\\site-packages\\\\tensorflow\\\\_api\\\\v2\\\\version\\\\__init__.py'>\n"
     ]
    }
   ],
   "source": [
    "import tensorflow as tf\n",
    "print(tf.version)"
   ]
  },
  {
   "cell_type": "markdown",
   "id": "0a4fd866",
   "metadata": {},
   "source": [
    "Creating tensors"
   ]
  },
  {
   "cell_type": "code",
   "execution_count": 3,
   "id": "2a3cf911",
   "metadata": {},
   "outputs": [],
   "source": [
    "string = tf.Variable(\"string\",tf.string)"
   ]
  },
  {
   "cell_type": "code",
   "execution_count": 4,
   "id": "f87b8451",
   "metadata": {},
   "outputs": [
    {
     "data": {
      "text/plain": [
       "<tf.Variable 'Variable:0' shape=() dtype=string, numpy=b'string'>"
      ]
     },
     "execution_count": 4,
     "metadata": {},
     "output_type": "execute_result"
    }
   ],
   "source": [
    "string"
   ]
  },
  {
   "cell_type": "code",
   "execution_count": 5,
   "id": "6879c4ea",
   "metadata": {},
   "outputs": [],
   "source": [
    "number = tf.Variable(99,tf.int16)"
   ]
  },
  {
   "cell_type": "code",
   "execution_count": 6,
   "id": "4ebecfe7",
   "metadata": {},
   "outputs": [
    {
     "data": {
      "text/plain": [
       "<tf.Variable 'Variable:0' shape=() dtype=int32, numpy=99>"
      ]
     },
     "execution_count": 6,
     "metadata": {},
     "output_type": "execute_result"
    }
   ],
   "source": [
    "number"
   ]
  },
  {
   "cell_type": "markdown",
   "id": "3f00cc19",
   "metadata": {},
   "source": [
    "rank of tensor:\n",
    "It simples gives the number of dimentions in tensor"
   ]
  },
  {
   "cell_type": "code",
   "execution_count": 7,
   "id": "bb732fae",
   "metadata": {},
   "outputs": [
    {
     "data": {
      "text/plain": [
       "<tf.Tensor: shape=(), dtype=int32, numpy=2>"
      ]
     },
     "execution_count": 7,
     "metadata": {},
     "output_type": "execute_result"
    }
   ],
   "source": [
    "rank1 = tf.Variable([\"arjun\",\"monty python and flying circus\"],tf.string)\n",
    "tf.rank(rank1)\n",
    "\n",
    "tank2 = tf.Variable([[\"arjun\"],[\"nty python and flying circus\"]],tf.string)\n",
    "tf.rank(tank2)"
   ]
  },
  {
   "cell_type": "code",
   "execution_count": 8,
   "id": "cb8261c2",
   "metadata": {},
   "outputs": [
    {
     "data": {
      "text/plain": [
       "TensorShape([2, 1])"
      ]
     },
     "execution_count": 8,
     "metadata": {},
     "output_type": "execute_result"
    }
   ],
   "source": [
    "tank2.shape #shape is the number of total elemets in the array"
   ]
  },
  {
   "cell_type": "code",
   "execution_count": 9,
   "id": "23c10d0d",
   "metadata": {},
   "outputs": [
    {
     "name": "stdout",
     "output_type": "stream",
     "text": [
      "tf.Tensor(\n",
      "[[[1. 1. 1.]\n",
      "  [1. 1. 1.]]], shape=(1, 2, 3), dtype=float32)\n",
      "tf.Tensor(\n",
      "[[[1.]\n",
      "  [1.]\n",
      "  [1.]]\n",
      "\n",
      " [[1.]\n",
      "  [1.]\n",
      "  [1.]]], shape=(2, 3, 1), dtype=float32)\n",
      "tf.Tensor(\n",
      "[[1. 1.]\n",
      " [1. 1.]\n",
      " [1. 1.]], shape=(3, 2), dtype=float32)\n"
     ]
    }
   ],
   "source": [
    "#changing shape of tensor\n",
    "\n",
    "tensor1 = tf.ones([1,2,3]) #cretaes a tensor of shape 1,2,3\n",
    "tensor2 = tf.reshape(tensor1,[2,3,1]) #converts tensor of shape 1,2,3 to 2,3,1\n",
    "tensor3 = tf.reshape(tensor2,[3,-1]) #converts tensor of shape 2,3,1 to 3,2    -1 tells the tensor to calculate the size of the dimension in that place \n",
    "\n",
    "print(tensor1)\n",
    "print(tensor2)\n",
    "print(tensor3)"
   ]
  },
  {
   "cell_type": "code",
   "execution_count": 10,
   "id": "69eba9e3",
   "metadata": {},
   "outputs": [
    {
     "name": "stdout",
     "output_type": "stream",
     "text": [
      "[[[1. 1. 1.]\n",
      "  [1. 1. 1.]]]\n"
     ]
    }
   ],
   "source": [
    "#evualtion of tensor\n",
    "with tf.compat.v1.Session() as sess:\n",
    "  tensor1 = tf.ones([1,2,3])\n",
    "  tft = tensor1*tensor1\n",
    "  print(tft.eval())"
   ]
  },
  {
   "attachments": {},
   "cell_type": "markdown",
   "id": "6cbf8a7a",
   "metadata": {},
   "source": [
    "<h2>Core ML algorithms</h2>"
   ]
  },
  {
   "cell_type": "code",
   "execution_count": 11,
   "id": "82387761",
   "metadata": {},
   "outputs": [
    {
     "name": "stdout",
     "output_type": "stream",
     "text": [
      "<module 'tensorflow._api.v2.version' from 'c:\\\\Users\\\\Admin\\\\anaconda3\\\\lib\\\\site-packages\\\\tensorflow\\\\_api\\\\v2\\\\version\\\\__init__.py'>\n",
      "tf.Tensor(\n",
      "[[1. 1. 1. 1. 1.]\n",
      " [1. 1. 1. 1. 1.]\n",
      " [1. 1. 1. 1. 1.]\n",
      " [1. 1. 1. 1. 1.]\n",
      " [1. 1. 1. 1. 1.]\n",
      " [1. 1. 1. 1. 1.]\n",
      " [1. 1. 1. 1. 1.]\n",
      " [1. 1. 1. 1. 1.]\n",
      " [1. 1. 1. 1. 1.]\n",
      " [1. 1. 1. 1. 1.]\n",
      " [1. 1. 1. 1. 1.]\n",
      " [1. 1. 1. 1. 1.]\n",
      " [1. 1. 1. 1. 1.]\n",
      " [1. 1. 1. 1. 1.]\n",
      " [1. 1. 1. 1. 1.]\n",
      " [1. 1. 1. 1. 1.]\n",
      " [1. 1. 1. 1. 1.]\n",
      " [1. 1. 1. 1. 1.]\n",
      " [1. 1. 1. 1. 1.]\n",
      " [1. 1. 1. 1. 1.]\n",
      " [1. 1. 1. 1. 1.]\n",
      " [1. 1. 1. 1. 1.]\n",
      " [1. 1. 1. 1. 1.]\n",
      " [1. 1. 1. 1. 1.]\n",
      " [1. 1. 1. 1. 1.]\n",
      " [1. 1. 1. 1. 1.]\n",
      " [1. 1. 1. 1. 1.]\n",
      " [1. 1. 1. 1. 1.]\n",
      " [1. 1. 1. 1. 1.]\n",
      " [1. 1. 1. 1. 1.]\n",
      " [1. 1. 1. 1. 1.]\n",
      " [1. 1. 1. 1. 1.]\n",
      " [1. 1. 1. 1. 1.]\n",
      " [1. 1. 1. 1. 1.]\n",
      " [1. 1. 1. 1. 1.]\n",
      " [1. 1. 1. 1. 1.]\n",
      " [1. 1. 1. 1. 1.]\n",
      " [1. 1. 1. 1. 1.]\n",
      " [1. 1. 1. 1. 1.]\n",
      " [1. 1. 1. 1. 1.]\n",
      " [1. 1. 1. 1. 1.]\n",
      " [1. 1. 1. 1. 1.]\n",
      " [1. 1. 1. 1. 1.]\n",
      " [1. 1. 1. 1. 1.]\n",
      " [1. 1. 1. 1. 1.]\n",
      " [1. 1. 1. 1. 1.]\n",
      " [1. 1. 1. 1. 1.]\n",
      " [1. 1. 1. 1. 1.]\n",
      " [1. 1. 1. 1. 1.]\n",
      " [1. 1. 1. 1. 1.]\n",
      " [1. 1. 1. 1. 1.]\n",
      " [1. 1. 1. 1. 1.]\n",
      " [1. 1. 1. 1. 1.]\n",
      " [1. 1. 1. 1. 1.]\n",
      " [1. 1. 1. 1. 1.]\n",
      " [1. 1. 1. 1. 1.]\n",
      " [1. 1. 1. 1. 1.]\n",
      " [1. 1. 1. 1. 1.]\n",
      " [1. 1. 1. 1. 1.]\n",
      " [1. 1. 1. 1. 1.]\n",
      " [1. 1. 1. 1. 1.]\n",
      " [1. 1. 1. 1. 1.]\n",
      " [1. 1. 1. 1. 1.]\n",
      " [1. 1. 1. 1. 1.]\n",
      " [1. 1. 1. 1. 1.]\n",
      " [1. 1. 1. 1. 1.]\n",
      " [1. 1. 1. 1. 1.]\n",
      " [1. 1. 1. 1. 1.]\n",
      " [1. 1. 1. 1. 1.]\n",
      " [1. 1. 1. 1. 1.]\n",
      " [1. 1. 1. 1. 1.]\n",
      " [1. 1. 1. 1. 1.]\n",
      " [1. 1. 1. 1. 1.]\n",
      " [1. 1. 1. 1. 1.]\n",
      " [1. 1. 1. 1. 1.]\n",
      " [1. 1. 1. 1. 1.]\n",
      " [1. 1. 1. 1. 1.]\n",
      " [1. 1. 1. 1. 1.]\n",
      " [1. 1. 1. 1. 1.]\n",
      " [1. 1. 1. 1. 1.]\n",
      " [1. 1. 1. 1. 1.]\n",
      " [1. 1. 1. 1. 1.]\n",
      " [1. 1. 1. 1. 1.]\n",
      " [1. 1. 1. 1. 1.]\n",
      " [1. 1. 1. 1. 1.]\n",
      " [1. 1. 1. 1. 1.]\n",
      " [1. 1. 1. 1. 1.]\n",
      " [1. 1. 1. 1. 1.]\n",
      " [1. 1. 1. 1. 1.]\n",
      " [1. 1. 1. 1. 1.]\n",
      " [1. 1. 1. 1. 1.]\n",
      " [1. 1. 1. 1. 1.]\n",
      " [1. 1. 1. 1. 1.]\n",
      " [1. 1. 1. 1. 1.]\n",
      " [1. 1. 1. 1. 1.]\n",
      " [1. 1. 1. 1. 1.]\n",
      " [1. 1. 1. 1. 1.]\n",
      " [1. 1. 1. 1. 1.]\n",
      " [1. 1. 1. 1. 1.]\n",
      " [1. 1. 1. 1. 1.]\n",
      " [1. 1. 1. 1. 1.]\n",
      " [1. 1. 1. 1. 1.]\n",
      " [1. 1. 1. 1. 1.]\n",
      " [1. 1. 1. 1. 1.]\n",
      " [1. 1. 1. 1. 1.]\n",
      " [1. 1. 1. 1. 1.]\n",
      " [1. 1. 1. 1. 1.]\n",
      " [1. 1. 1. 1. 1.]\n",
      " [1. 1. 1. 1. 1.]\n",
      " [1. 1. 1. 1. 1.]\n",
      " [1. 1. 1. 1. 1.]\n",
      " [1. 1. 1. 1. 1.]\n",
      " [1. 1. 1. 1. 1.]\n",
      " [1. 1. 1. 1. 1.]\n",
      " [1. 1. 1. 1. 1.]\n",
      " [1. 1. 1. 1. 1.]\n",
      " [1. 1. 1. 1. 1.]\n",
      " [1. 1. 1. 1. 1.]\n",
      " [1. 1. 1. 1. 1.]\n",
      " [1. 1. 1. 1. 1.]\n",
      " [1. 1. 1. 1. 1.]\n",
      " [1. 1. 1. 1. 1.]\n",
      " [1. 1. 1. 1. 1.]\n",
      " [1. 1. 1. 1. 1.]\n",
      " [1. 1. 1. 1. 1.]], shape=(125, 5), dtype=float32)\n"
     ]
    }
   ],
   "source": [
    "\n",
    "import tensorflow as tf\n",
    "print(tf.version)\n",
    "\n",
    "t = tf.ones([5,5,5,5])\n",
    "#print(t)\n",
    "\n",
    "t = tf.reshape(t,[125,-1])\n",
    "print(t)"
   ]
  },
  {
   "cell_type": "code",
   "execution_count": 12,
   "id": "4359cdc1",
   "metadata": {},
   "outputs": [],
   "source": [
    "#Linear Regression\n",
    "!pip install -q sklearn"
   ]
  },
  {
   "cell_type": "code",
   "execution_count": 13,
   "id": "4f1e9807",
   "metadata": {},
   "outputs": [],
   "source": [
    "from __future__ import absolute_import, division, print_function, unicode_literals\n",
    "\n",
    "import numpy as np\n",
    "import pandas as pd\n",
    "import matplotlib.pyplot as plt\n",
    "from IPython.display import clear_output\n",
    "from six.moves import urllib\n",
    "\n",
    "import tensorflow.compat.v2.feature_column as fc\n",
    "import tensorflow as tf"
   ]
  },
  {
   "cell_type": "code",
   "execution_count": 14,
   "id": "c035a5ff",
   "metadata": {},
   "outputs": [],
   "source": [
    "dftrain = pd.read_csv('https://storage.googleapis.com/tf-datasets/titanic/train.csv')\n",
    "dfeval = pd.read_csv('https://storage.googleapis.com/tf-datasets/titanic/eval.csv')\n",
    "y_train = dftrain.pop('survived')\n",
    "y_eval = dfeval.pop('survived')"
   ]
  },
  {
   "cell_type": "code",
   "execution_count": 15,
   "id": "04b552f6",
   "metadata": {},
   "outputs": [
    {
     "name": "stdout",
     "output_type": "stream",
     "text": [
      "0    0\n",
      "1    1\n",
      "2    1\n",
      "3    1\n",
      "4    0\n",
      "Name: survived, dtype: int64\n"
     ]
    }
   ],
   "source": [
    "\n",
    "print(y_train.head())"
   ]
  },
  {
   "cell_type": "code",
   "execution_count": 16,
   "id": "03667c43",
   "metadata": {},
   "outputs": [
    {
     "data": {
      "text/plain": [
       "sex                        female\n",
       "age                          27.0\n",
       "n_siblings_spouses              0\n",
       "parch                           2\n",
       "fare                      11.1333\n",
       "class                       Third\n",
       "deck                      unknown\n",
       "embark_town           Southampton\n",
       "alone                           n\n",
       "Name: 6, dtype: object"
      ]
     },
     "execution_count": 16,
     "metadata": {},
     "output_type": "execute_result"
    }
   ],
   "source": [
    "dftrain.loc[6]"
   ]
  },
  {
   "cell_type": "code",
   "execution_count": 17,
   "id": "9db18035",
   "metadata": {},
   "outputs": [
    {
     "data": {
      "text/html": [
       "<div>\n",
       "<style scoped>\n",
       "    .dataframe tbody tr th:only-of-type {\n",
       "        vertical-align: middle;\n",
       "    }\n",
       "\n",
       "    .dataframe tbody tr th {\n",
       "        vertical-align: top;\n",
       "    }\n",
       "\n",
       "    .dataframe thead th {\n",
       "        text-align: right;\n",
       "    }\n",
       "</style>\n",
       "<table border=\"1\" class=\"dataframe\">\n",
       "  <thead>\n",
       "    <tr style=\"text-align: right;\">\n",
       "      <th></th>\n",
       "      <th>age</th>\n",
       "      <th>n_siblings_spouses</th>\n",
       "      <th>parch</th>\n",
       "      <th>fare</th>\n",
       "    </tr>\n",
       "  </thead>\n",
       "  <tbody>\n",
       "    <tr>\n",
       "      <th>count</th>\n",
       "      <td>627.000000</td>\n",
       "      <td>627.000000</td>\n",
       "      <td>627.000000</td>\n",
       "      <td>627.000000</td>\n",
       "    </tr>\n",
       "    <tr>\n",
       "      <th>mean</th>\n",
       "      <td>29.631308</td>\n",
       "      <td>0.545455</td>\n",
       "      <td>0.379585</td>\n",
       "      <td>34.385399</td>\n",
       "    </tr>\n",
       "    <tr>\n",
       "      <th>std</th>\n",
       "      <td>12.511818</td>\n",
       "      <td>1.151090</td>\n",
       "      <td>0.792999</td>\n",
       "      <td>54.597730</td>\n",
       "    </tr>\n",
       "    <tr>\n",
       "      <th>min</th>\n",
       "      <td>0.750000</td>\n",
       "      <td>0.000000</td>\n",
       "      <td>0.000000</td>\n",
       "      <td>0.000000</td>\n",
       "    </tr>\n",
       "    <tr>\n",
       "      <th>25%</th>\n",
       "      <td>23.000000</td>\n",
       "      <td>0.000000</td>\n",
       "      <td>0.000000</td>\n",
       "      <td>7.895800</td>\n",
       "    </tr>\n",
       "    <tr>\n",
       "      <th>50%</th>\n",
       "      <td>28.000000</td>\n",
       "      <td>0.000000</td>\n",
       "      <td>0.000000</td>\n",
       "      <td>15.045800</td>\n",
       "    </tr>\n",
       "    <tr>\n",
       "      <th>75%</th>\n",
       "      <td>35.000000</td>\n",
       "      <td>1.000000</td>\n",
       "      <td>0.000000</td>\n",
       "      <td>31.387500</td>\n",
       "    </tr>\n",
       "    <tr>\n",
       "      <th>max</th>\n",
       "      <td>80.000000</td>\n",
       "      <td>8.000000</td>\n",
       "      <td>5.000000</td>\n",
       "      <td>512.329200</td>\n",
       "    </tr>\n",
       "  </tbody>\n",
       "</table>\n",
       "</div>"
      ],
      "text/plain": [
       "              age  n_siblings_spouses       parch        fare\n",
       "count  627.000000          627.000000  627.000000  627.000000\n",
       "mean    29.631308            0.545455    0.379585   34.385399\n",
       "std     12.511818            1.151090    0.792999   54.597730\n",
       "min      0.750000            0.000000    0.000000    0.000000\n",
       "25%     23.000000            0.000000    0.000000    7.895800\n",
       "50%     28.000000            0.000000    0.000000   15.045800\n",
       "75%     35.000000            1.000000    0.000000   31.387500\n",
       "max     80.000000            8.000000    5.000000  512.329200"
      ]
     },
     "execution_count": 17,
     "metadata": {},
     "output_type": "execute_result"
    }
   ],
   "source": [
    "dftrain.describe()"
   ]
  },
  {
   "cell_type": "code",
   "execution_count": 18,
   "id": "8530c1d6",
   "metadata": {},
   "outputs": [
    {
     "data": {
      "text/plain": [
       "(627, 9)"
      ]
     },
     "execution_count": 18,
     "metadata": {},
     "output_type": "execute_result"
    }
   ],
   "source": [
    "dftrain.shape"
   ]
  },
  {
   "cell_type": "code",
   "execution_count": 19,
   "id": "28755006",
   "metadata": {},
   "outputs": [
    {
     "data": {
      "text/plain": [
       "<AxesSubplot:>"
      ]
     },
     "execution_count": 19,
     "metadata": {},
     "output_type": "execute_result"
    },
    {
     "data": {
      "image/png": "[encoded data removed]",
      "text/plain": [
       "<Figure size 640x480 with 1 Axes>"
      ]
     },
     "metadata": {},
     "output_type": "display_data"
    }
   ],
   "source": [
    "dftrain.age.hist(bins=20)"
   ]
  },
  {
   "cell_type": "code",
   "execution_count": 20,
   "id": "003110cb",
   "metadata": {},
   "outputs": [
    {
     "data": {
      "text/plain": [
       "<AxesSubplot:>"
      ]
     },
     "execution_count": 20,
     "metadata": {},
     "output_type": "execute_result"
    },
    {
     "data": {
      "image/png": "[encoded data removed]",
      "text/plain": [
       "<Figure size 640x480 with 1 Axes>"
      ]
     },
     "metadata": {},
     "output_type": "display_data"
    }
   ],
   "source": [
    "dftrain.sex.value_counts().plot(kind='barh')"
   ]
  },
  {
   "cell_type": "code",
   "execution_count": 21,
   "id": "247bc1f6",
   "metadata": {},
   "outputs": [
    {
     "data": {
      "text/plain": [
       "<AxesSubplot:>"
      ]
     },
     "execution_count": 21,
     "metadata": {},
     "output_type": "execute_result"
    },
    {
     "data": {
      "image/png": "[encoded data removed]",
      "text/plain": [
       "<Figure size 640x480 with 1 Axes>"
      ]
     },
     "metadata": {},
     "output_type": "display_data"
    }
   ],
   "source": [
    "dftrain['class'].value_counts().plot(kind='barh')"
   ]
  },
  {
   "cell_type": "code",
   "execution_count": 22,
   "id": "bb514a02",
   "metadata": {},
   "outputs": [],
   "source": [
    "dftrain = pd.read_csv('https://storage.googleapis.com/tf-datasets/titanic/train.csv')\n",
    "dfeval = pd.read_csv('https://storage.googleapis.com/tf-datasets/titanic/eval.csv')\n",
    "y_train = dftrain.pop('survived')\n",
    "y_eval = dfeval.pop('survived')\n",
    "\n",
    "CATEGORICAL_COLUMNS = ['sex','n_siblings_spouses','parch','class','deck','embark_town','alone']\n",
    "NUMERIC_COLUMNS = ['age','fare']\n",
    "\n",
    "feature_columns = []\n",
    "for name in CATEGORICAL_COLUMNS:\n",
    "    voc = dftrain[name].unique()\n",
    "    feature_columns.append(tf.feature_column.categorical_column_with_vocabulary_list(name,voc))\n",
    "\n",
    "for name in NUMERIC_COLUMNS:\n",
    "    feature_columns.append(tf.feature_column.numeric_column(name,dtype=tf.float32))\n"
   ]
  },
  {
   "cell_type": "code",
   "execution_count": 23,
   "id": "8ec128db",
   "metadata": {},
   "outputs": [
    {
     "name": "stdout",
     "output_type": "stream",
     "text": [
      "[VocabularyListCategoricalColumn(key='sex', vocabulary_list=('male', 'female'), dtype=tf.string, default_value=-1, num_oov_buckets=0), VocabularyListCategoricalColumn(key='n_siblings_spouses', vocabulary_list=(1, 0, 3, 4, 2, 5, 8), dtype=tf.int64, default_value=-1, num_oov_buckets=0), VocabularyListCategoricalColumn(key='parch', vocabulary_list=(0, 1, 2, 5, 3, 4), dtype=tf.int64, default_value=-1, num_oov_buckets=0), VocabularyListCategoricalColumn(key='class', vocabulary_list=('Third', 'First', 'Second'), dtype=tf.string, default_value=-1, num_oov_buckets=0), VocabularyListCategoricalColumn(key='deck', vocabulary_list=('unknown', 'C', 'G', 'A', 'B', 'D', 'F', 'E'), dtype=tf.string, default_value=-1, num_oov_buckets=0), VocabularyListCategoricalColumn(key='embark_town', vocabulary_list=('Southampton', 'Cherbourg', 'Queenstown', 'unknown'), dtype=tf.string, default_value=-1, num_oov_buckets=0), VocabularyListCategoricalColumn(key='alone', vocabulary_list=('n', 'y'), dtype=tf.string, default_value=-1, num_oov_buckets=0), NumericColumn(key='age', shape=(1,), default_value=None, dtype=tf.float32, normalizer_fn=None), NumericColumn(key='fare', shape=(1,), default_value=None, dtype=tf.float32, normalizer_fn=None)]\n"
     ]
    }
   ],
   "source": [
    "print(feature_columns)"
   ]
  },
  {
   "cell_type": "code",
   "execution_count": 24,
   "id": "75e8871e",
   "metadata": {},
   "outputs": [
    {
     "name": "stdout",
     "output_type": "stream",
     "text": [
      "INFO:tensorflow:Using default config.\n",
      "WARNING:tensorflow:Using temporary folder as model directory: C:\\Users\\Admin\\AppData\\Local\\Temp\\tmpplx9_h14\n",
      "INFO:tensorflow:Using config: {'_model_dir': 'C:\\\\Users\\\\Admin\\\\AppData\\\\Local\\\\Temp\\\\tmpplx9_h14', '_tf_random_seed': None, '_save_summary_steps': 100, '_save_checkpoints_steps': None, '_save_checkpoints_secs': 600, '_session_config': allow_soft_placement: true\n",
      "graph_options {\n",
      "  rewrite_options {\n",
      "    meta_optimizer_iterations: ONE\n",
      "  }\n",
      "}\n",
      ", '_keep_checkpoint_max': 5, '_keep_checkpoint_every_n_hours': 10000, '_log_step_count_steps': 100, '_train_distribute': None, '_device_fn': None, '_protocol': None, '_eval_distribute': None, '_experimental_distribute': None, '_experimental_max_worker_delay_secs': None, '_session_creation_timeout_secs': 7200, '_checkpoint_save_graph_def': True, '_service': None, '_cluster_spec': ClusterSpec({}), '_task_type': 'worker', '_task_id': 0, '_global_id_in_cluster': 0, '_master': '', '_evaluation_master': '', '_is_chief': True, '_num_ps_replicas': 0, '_num_worker_replicas': 1}\n",
      "WARNING:tensorflow:From c:\\Users\\Admin\\anaconda3\\lib\\site-packages\\tensorflow\\python\\training\\training_util.py:396: Variable.initialized_value (from tensorflow.python.ops.variables) is deprecated and will be removed in a future version.\n",
      "Instructions for updating:\n",
      "Use Variable.read_value. Variables in 2.X are initialized automatically both in eager and graph (inside tf.defun) contexts.\n",
      "INFO:tensorflow:Calling model_fn.\n",
      "WARNING:tensorflow:From c:\\Users\\Admin\\anaconda3\\lib\\site-packages\\keras\\optimizers\\optimizer_v2\\ftrl.py:173: calling Constant.__init__ (from tensorflow.python.ops.init_ops) with dtype is deprecated and will be removed in a future version.\n",
      "Instructions for updating:\n",
      "Call initializer instance with the dtype argument instead of passing it to the constructor\n",
      "INFO:tensorflow:Done calling model_fn.\n",
      "INFO:tensorflow:Create CheckpointSaverHook.\n",
      "INFO:tensorflow:Graph was finalized.\n",
      "INFO:tensorflow:Running local_init_op.\n",
      "INFO:tensorflow:Done running local_init_op.\n",
      "INFO:tensorflow:Calling checkpoint listeners before saving checkpoint 0...\n",
      "INFO:tensorflow:Saving checkpoints for 0 into C:\\Users\\Admin\\AppData\\Local\\Temp\\tmpplx9_h14\\model.ckpt.\n",
      "INFO:tensorflow:Calling checkpoint listeners after saving checkpoint 0...\n",
      "INFO:tensorflow:loss = 0.6931472, step = 0\n",
      "INFO:tensorflow:global_step/sec: 531.916\n",
      "INFO:tensorflow:loss = 0.45001677, step = 100 (0.188 sec)\n",
      "INFO:tensorflow:Calling checkpoint listeners before saving checkpoint 200...\n",
      "INFO:tensorflow:Saving checkpoints for 200 into C:\\Users\\Admin\\AppData\\Local\\Temp\\tmpplx9_h14\\model.ckpt.\n",
      "INFO:tensorflow:Calling checkpoint listeners after saving checkpoint 200...\n",
      "INFO:tensorflow:Loss for final step: 0.4099274.\n",
      "INFO:tensorflow:Calling model_fn.\n",
      "INFO:tensorflow:Done calling model_fn.\n",
      "INFO:tensorflow:Starting evaluation at 2023-01-15T09:14:21\n",
      "INFO:tensorflow:Graph was finalized.\n",
      "INFO:tensorflow:Restoring parameters from C:\\Users\\Admin\\AppData\\Local\\Temp\\tmpplx9_h14\\model.ckpt-200\n",
      "INFO:tensorflow:Running local_init_op.\n",
      "INFO:tensorflow:Done running local_init_op.\n",
      "INFO:tensorflow:Inference Time : 0.85000s\n",
      "INFO:tensorflow:Finished evaluation at 2023-01-15-09:14:22\n",
      "INFO:tensorflow:Saving dict for global step 200: accuracy = 0.7613636, accuracy_baseline = 0.625, auc = 0.8261708, auc_precision_recall = 0.79871494, average_loss = 0.48318452, global_step = 200, label/mean = 0.375, loss = 0.4755249, precision = 0.70454544, prediction/mean = 0.37448567, recall = 0.6262626\n",
      "INFO:tensorflow:Saving 'checkpoint_path' summary for global step 200: C:\\Users\\Admin\\AppData\\Local\\Temp\\tmpplx9_h14\\model.ckpt-200\n",
      "{'accuracy': 0.7613636, 'accuracy_baseline': 0.625, 'auc': 0.8261708, 'auc_precision_recall': 0.79871494, 'average_loss': 0.48318452, 'label/mean': 0.375, 'loss': 0.4755249, 'precision': 0.70454544, 'prediction/mean': 0.37448567, 'recall': 0.6262626, 'global_step': 200}\n"
     ]
    }
   ],
   "source": [
    "def make_input_fn(data_df,label_df,num_epochs=10,shuffle=True,batch_size=32):\n",
    "    def input_function():\n",
    "        ds = tf.data.Dataset.from_tensor_slices((dict(data_df),label_df))\n",
    "        if shuffle:\n",
    "            ds = ds.shuffle(1000)\n",
    "        ds = ds.batch(batch_size).repeat(num_epochs)\n",
    "        return ds\n",
    "    return input_function\n",
    "\n",
    "train_input_fn = make_input_fn(dftrain,y_train)\n",
    "eval_input_fn = make_input_fn(dfeval,y_eval,num_epochs=100,shuffle=False)\n",
    "linear_set  = tf.estimator.LinearClassifier(feature_columns=feature_columns)\n",
    "\n",
    "linear_set.train(train_input_fn)\n",
    "result = linear_set.evaluate(eval_input_fn)\n",
    "\n",
    "#clear_output()\n",
    "print(result)\n"
   ]
  },
  {
   "cell_type": "code",
   "execution_count": 25,
   "id": "980aed1d",
   "metadata": {},
   "outputs": [
    {
     "name": "stdout",
     "output_type": "stream",
     "text": [
      "INFO:tensorflow:Calling model_fn.\n",
      "INFO:tensorflow:Done calling model_fn.\n",
      "INFO:tensorflow:Graph was finalized.\n",
      "INFO:tensorflow:Restoring parameters from C:\\Users\\Admin\\AppData\\Local\\Temp\\tmpplx9_h14\\model.ckpt-200\n",
      "INFO:tensorflow:Running local_init_op.\n",
      "INFO:tensorflow:Done running local_init_op.\n",
      "0\n",
      "sex                          male\n",
      "age                          21.0\n",
      "n_siblings_spouses              0\n",
      "parch                           0\n",
      "fare                         8.05\n",
      "class                       Third\n",
      "deck                      unknown\n",
      "embark_town           Southampton\n",
      "alone                           y\n",
      "Name: 7, dtype: object\n",
      "[0.8823293  0.11767074]\n"
     ]
    }
   ],
   "source": [
    "result = list(linear_set.predict(eval_input_fn))\n",
    "x = 7\n",
    "print(y_eval.loc[x])\n",
    "print(dfeval.loc[x])\n",
    "print(result[x]['probabilities'])"
   ]
  },
  {
   "attachments": {},
   "cell_type": "markdown",
   "id": "a2ae746d",
   "metadata": {},
   "source": [
    "<h2>Classification</h2>"
   ]
  },
  {
   "cell_type": "code",
   "execution_count": 26,
   "id": "8fd6957b",
   "metadata": {},
   "outputs": [],
   "source": [
    "from __future__ import absolute_import, division, print_function, unicode_literals\n",
    "\n",
    "import tensorflow as tf\n",
    "import pandas as pd\n",
    "\n",
    "\n"
   ]
  },
  {
   "cell_type": "code",
   "execution_count": 30,
   "id": "ceec65af",
   "metadata": {},
   "outputs": [],
   "source": [
    "CSV_COLUMN_NAMES = ['SepalLength', 'SepalWidth','PetalLenght','PetalWidth','Species']\n",
    "SPECIES = ['Setosa', 'Versicolor', 'Virginica']"
   ]
  },
  {
   "cell_type": "code",
   "execution_count": 31,
   "id": "75493c58",
   "metadata": {},
   "outputs": [],
   "source": [
    "train_path = tf.keras.utils.get_file(\"iris_training.csv\",\"https://storage.googleapis.com/download.tensorflow.org/data/iris_training.csv\")\n",
    "test_path = tf.keras.utils.get_file(\"iris_test.csv\",\"https://storage.googleapis.com/download.tensorflow.org/data/iris_test.csv\")\n",
    "\n",
    "train = pd.read_csv(train_path,names=CSV_COLUMN_NAMES,header=0)\n",
    "test = pd.read_csv(test_path,names=CSV_COLUMN_NAMES,header=0)"
   ]
  },
  {
   "cell_type": "code",
   "execution_count": 32,
   "id": "bb7db561",
   "metadata": {},
   "outputs": [
    {
     "data": {
      "text/html": [
       "<div>\n",
       "<style scoped>\n",
       "    .dataframe tbody tr th:only-of-type {\n",
       "        vertical-align: middle;\n",
       "    }\n",
       "\n",
       "    .dataframe tbody tr th {\n",
       "        vertical-align: top;\n",
       "    }\n",
       "\n",
       "    .dataframe thead th {\n",
       "        text-align: right;\n",
       "    }\n",
       "</style>\n",
       "<table border=\"1\" class=\"dataframe\">\n",
       "  <thead>\n",
       "    <tr style=\"text-align: right;\">\n",
       "      <th></th>\n",
       "      <th>SepalLength</th>\n",
       "      <th>SepalWidth</th>\n",
       "      <th>PetalLenght</th>\n",
       "      <th>PetalWidth</th>\n",
       "      <th>Species</th>\n",
       "    </tr>\n",
       "  </thead>\n",
       "  <tbody>\n",
       "    <tr>\n",
       "      <th>0</th>\n",
       "      <td>6.4</td>\n",
       "      <td>2.8</td>\n",
       "      <td>5.6</td>\n",
       "      <td>2.2</td>\n",
       "      <td>2</td>\n",
       "    </tr>\n",
       "    <tr>\n",
       "      <th>1</th>\n",
       "      <td>5.0</td>\n",
       "      <td>2.3</td>\n",
       "      <td>3.3</td>\n",
       "      <td>1.0</td>\n",
       "      <td>1</td>\n",
       "    </tr>\n",
       "    <tr>\n",
       "      <th>2</th>\n",
       "      <td>4.9</td>\n",
       "      <td>2.5</td>\n",
       "      <td>4.5</td>\n",
       "      <td>1.7</td>\n",
       "      <td>2</td>\n",
       "    </tr>\n",
       "    <tr>\n",
       "      <th>3</th>\n",
       "      <td>4.9</td>\n",
       "      <td>3.1</td>\n",
       "      <td>1.5</td>\n",
       "      <td>0.1</td>\n",
       "      <td>0</td>\n",
       "    </tr>\n",
       "    <tr>\n",
       "      <th>4</th>\n",
       "      <td>5.7</td>\n",
       "      <td>3.8</td>\n",
       "      <td>1.7</td>\n",
       "      <td>0.3</td>\n",
       "      <td>0</td>\n",
       "    </tr>\n",
       "  </tbody>\n",
       "</table>\n",
       "</div>"
      ],
      "text/plain": [
       "   SepalLength  SepalWidth  PetalLenght  PetalWidth  Species\n",
       "0          6.4         2.8          5.6         2.2        2\n",
       "1          5.0         2.3          3.3         1.0        1\n",
       "2          4.9         2.5          4.5         1.7        2\n",
       "3          4.9         3.1          1.5         0.1        0\n",
       "4          5.7         3.8          1.7         0.3        0"
      ]
     },
     "execution_count": 32,
     "metadata": {},
     "output_type": "execute_result"
    }
   ],
   "source": [
    "train.head()"
   ]
  },
  {
   "cell_type": "code",
   "execution_count": 33,
   "id": "387c5ce3",
   "metadata": {},
   "outputs": [],
   "source": [
    "train_y = train.pop('Species')\n",
    "test_y = test.pop('Species')"
   ]
  },
  {
   "cell_type": "code",
   "execution_count": 36,
   "id": "7deb5b92",
   "metadata": {},
   "outputs": [
    {
     "data": {
      "text/plain": [
       "0    2\n",
       "1    1\n",
       "2    2\n",
       "3    0\n",
       "4    0\n",
       "Name: Species, dtype: int64"
      ]
     },
     "execution_count": 36,
     "metadata": {},
     "output_type": "execute_result"
    }
   ],
   "source": [
    "train_y.head()"
   ]
  },
  {
   "cell_type": "code",
   "execution_count": 37,
   "id": "31d0fdd9",
   "metadata": {},
   "outputs": [],
   "source": [
    "#input functions\n",
    "def input_fn(features,labels,training=True,batch_size=256):\n",
    "    dataset = tf.data.Dataset.from_tensor_slices((dict(features),labels))\n",
    "    if training:\n",
    "        dataset = dataset.shuffle(1000).repeat()\n",
    "    return dataset.batch(batch_size)\n"
   ]
  },
  {
   "cell_type": "code",
   "execution_count": 38,
   "id": "3184dba8",
   "metadata": {},
   "outputs": [
    {
     "name": "stdout",
     "output_type": "stream",
     "text": [
      "[NumericColumn(key='SepalLength', shape=(1,), default_value=None, dtype=tf.float32, normalizer_fn=None), NumericColumn(key='SepalWidth', shape=(1,), default_value=None, dtype=tf.float32, normalizer_fn=None), NumericColumn(key='PetalLenght', shape=(1,), default_value=None, dtype=tf.float32, normalizer_fn=None), NumericColumn(key='PetalWidth', shape=(1,), default_value=None, dtype=tf.float32, normalizer_fn=None)]\n"
     ]
    }
   ],
   "source": [
    "#feature columns\n",
    "my_feature_columns = []\n",
    "for key in train.keys():\n",
    "    my_feature_columns.append(tf.feature_column.numeric_column(key=key))\n",
    "print(my_feature_columns)\n"
   ]
  },
  {
   "cell_type": "code",
   "execution_count": 43,
   "id": "be99eb7b",
   "metadata": {},
   "outputs": [
    {
     "name": "stdout",
     "output_type": "stream",
     "text": [
      "INFO:tensorflow:Using default config.\n",
      "WARNING:tensorflow:Using temporary folder as model directory: C:\\Users\\Admin\\AppData\\Local\\Temp\\tmp3issvzm9\n",
      "INFO:tensorflow:Using config: {'_model_dir': 'C:\\\\Users\\\\Admin\\\\AppData\\\\Local\\\\Temp\\\\tmp3issvzm9', '_tf_random_seed': None, '_save_summary_steps': 100, '_save_checkpoints_steps': None, '_save_checkpoints_secs': 600, '_session_config': allow_soft_placement: true\n",
      "graph_options {\n",
      "  rewrite_options {\n",
      "    meta_optimizer_iterations: ONE\n",
      "  }\n",
      "}\n",
      ", '_keep_checkpoint_max': 5, '_keep_checkpoint_every_n_hours': 10000, '_log_step_count_steps': 100, '_train_distribute': None, '_device_fn': None, '_protocol': None, '_eval_distribute': None, '_experimental_distribute': None, '_experimental_max_worker_delay_secs': None, '_session_creation_timeout_secs': 7200, '_checkpoint_save_graph_def': True, '_service': None, '_cluster_spec': ClusterSpec({}), '_task_type': 'worker', '_task_id': 0, '_global_id_in_cluster': 0, '_master': '', '_evaluation_master': '', '_is_chief': True, '_num_ps_replicas': 0, '_num_worker_replicas': 1}\n",
      "INFO:tensorflow:Calling model_fn.\n",
      "INFO:tensorflow:Done calling model_fn.\n",
      "INFO:tensorflow:Create CheckpointSaverHook.\n",
      "INFO:tensorflow:Graph was finalized.\n",
      "INFO:tensorflow:Running local_init_op.\n",
      "INFO:tensorflow:Done running local_init_op.\n",
      "INFO:tensorflow:Calling checkpoint listeners before saving checkpoint 0...\n",
      "INFO:tensorflow:Saving checkpoints for 0 into C:\\Users\\Admin\\AppData\\Local\\Temp\\tmp3issvzm9\\model.ckpt.\n",
      "INFO:tensorflow:Calling checkpoint listeners after saving checkpoint 0...\n",
      "INFO:tensorflow:loss = 1.4390438, step = 0\n",
      "INFO:tensorflow:global_step/sec: 1111.13\n",
      "INFO:tensorflow:loss = 1.1447883, step = 100 (0.090 sec)\n",
      "INFO:tensorflow:global_step/sec: 1724.11\n",
      "INFO:tensorflow:loss = 1.0531981, step = 200 (0.058 sec)\n",
      "INFO:tensorflow:global_step/sec: 1818.16\n",
      "INFO:tensorflow:loss = 0.9878471, step = 300 (0.056 sec)\n",
      "INFO:tensorflow:global_step/sec: 1818.19\n",
      "INFO:tensorflow:loss = 0.9374274, step = 400 (0.054 sec)\n",
      "INFO:tensorflow:global_step/sec: 1886.8\n",
      "INFO:tensorflow:loss = 0.9014914, step = 500 (0.053 sec)\n",
      "INFO:tensorflow:global_step/sec: 1851.81\n",
      "INFO:tensorflow:loss = 0.86751556, step = 600 (0.054 sec)\n",
      "INFO:tensorflow:global_step/sec: 1886.75\n",
      "INFO:tensorflow:loss = 0.835652, step = 700 (0.053 sec)\n",
      "INFO:tensorflow:global_step/sec: 1960.82\n",
      "INFO:tensorflow:loss = 0.8035966, step = 800 (0.051 sec)\n",
      "INFO:tensorflow:global_step/sec: 1851.89\n",
      "INFO:tensorflow:loss = 0.77630675, step = 900 (0.054 sec)\n",
      "INFO:tensorflow:global_step/sec: 1785.76\n",
      "INFO:tensorflow:loss = 0.76193905, step = 1000 (0.056 sec)\n",
      "INFO:tensorflow:global_step/sec: 1999.96\n",
      "INFO:tensorflow:loss = 0.7359824, step = 1100 (0.050 sec)\n",
      "INFO:tensorflow:global_step/sec: 2040.87\n",
      "INFO:tensorflow:loss = 0.7191654, step = 1200 (0.049 sec)\n",
      "INFO:tensorflow:global_step/sec: 1999.91\n",
      "INFO:tensorflow:loss = 0.70019364, step = 1300 (0.050 sec)\n",
      "INFO:tensorflow:global_step/sec: 2040.77\n",
      "INFO:tensorflow:loss = 0.6799784, step = 1400 (0.049 sec)\n",
      "INFO:tensorflow:global_step/sec: 2083.48\n",
      "INFO:tensorflow:loss = 0.67347544, step = 1500 (0.048 sec)\n",
      "INFO:tensorflow:global_step/sec: 2083.32\n",
      "INFO:tensorflow:loss = 0.6469177, step = 1600 (0.048 sec)\n",
      "INFO:tensorflow:global_step/sec: 2127.63\n",
      "INFO:tensorflow:loss = 0.6455703, step = 1700 (0.047 sec)\n",
      "INFO:tensorflow:global_step/sec: 2083.35\n",
      "INFO:tensorflow:loss = 0.6325569, step = 1800 (0.048 sec)\n",
      "INFO:tensorflow:global_step/sec: 2173.91\n",
      "INFO:tensorflow:loss = 0.6153114, step = 1900 (0.047 sec)\n",
      "INFO:tensorflow:global_step/sec: 2040.8\n",
      "INFO:tensorflow:loss = 0.61099494, step = 2000 (0.048 sec)\n",
      "INFO:tensorflow:global_step/sec: 2040.82\n",
      "INFO:tensorflow:loss = 0.59285384, step = 2100 (0.049 sec)\n",
      "INFO:tensorflow:global_step/sec: 2127.68\n",
      "INFO:tensorflow:loss = 0.5837287, step = 2200 (0.048 sec)\n",
      "INFO:tensorflow:global_step/sec: 2083.36\n",
      "INFO:tensorflow:loss = 0.5642099, step = 2300 (0.047 sec)\n",
      "INFO:tensorflow:global_step/sec: 1999.97\n",
      "INFO:tensorflow:loss = 0.56713444, step = 2400 (0.050 sec)\n",
      "INFO:tensorflow:global_step/sec: 2127.6\n",
      "INFO:tensorflow:loss = 0.5497674, step = 2500 (0.046 sec)\n",
      "INFO:tensorflow:global_step/sec: 2173.95\n",
      "INFO:tensorflow:loss = 0.54464304, step = 2600 (0.047 sec)\n",
      "INFO:tensorflow:global_step/sec: 2127.68\n",
      "INFO:tensorflow:loss = 0.53999627, step = 2700 (0.047 sec)\n",
      "INFO:tensorflow:global_step/sec: 2083.35\n",
      "INFO:tensorflow:loss = 0.5226196, step = 2800 (0.048 sec)\n",
      "INFO:tensorflow:global_step/sec: 2040.82\n",
      "INFO:tensorflow:loss = 0.53417766, step = 2900 (0.050 sec)\n",
      "INFO:tensorflow:global_step/sec: 1999.99\n",
      "INFO:tensorflow:loss = 0.5138223, step = 3000 (0.049 sec)\n",
      "INFO:tensorflow:global_step/sec: 2127.65\n",
      "INFO:tensorflow:loss = 0.50961745, step = 3100 (0.047 sec)\n",
      "INFO:tensorflow:global_step/sec: 2127.65\n",
      "INFO:tensorflow:loss = 0.49188286, step = 3200 (0.047 sec)\n",
      "INFO:tensorflow:global_step/sec: 2040.84\n",
      "INFO:tensorflow:loss = 0.49275616, step = 3300 (0.049 sec)\n",
      "INFO:tensorflow:global_step/sec: 2083.32\n",
      "INFO:tensorflow:loss = 0.48143035, step = 3400 (0.047 sec)\n",
      "INFO:tensorflow:global_step/sec: 2127.62\n",
      "INFO:tensorflow:loss = 0.4714747, step = 3500 (0.048 sec)\n",
      "INFO:tensorflow:global_step/sec: 2173.82\n",
      "INFO:tensorflow:loss = 0.47044754, step = 3600 (0.046 sec)\n",
      "INFO:tensorflow:global_step/sec: 2083.44\n",
      "INFO:tensorflow:loss = 0.46118975, step = 3700 (0.048 sec)\n",
      "INFO:tensorflow:global_step/sec: 2173.81\n",
      "INFO:tensorflow:loss = 0.45176345, step = 3800 (0.046 sec)\n",
      "INFO:tensorflow:global_step/sec: 2083.45\n",
      "INFO:tensorflow:loss = 0.45203713, step = 3900 (0.048 sec)\n",
      "INFO:tensorflow:global_step/sec: 2083.33\n",
      "INFO:tensorflow:loss = 0.4510826, step = 4000 (0.048 sec)\n",
      "INFO:tensorflow:global_step/sec: 2083.36\n",
      "INFO:tensorflow:loss = 0.44882357, step = 4100 (0.048 sec)\n",
      "INFO:tensorflow:global_step/sec: 2127.62\n",
      "INFO:tensorflow:loss = 0.44003087, step = 4200 (0.047 sec)\n",
      "INFO:tensorflow:global_step/sec: 2083.25\n",
      "INFO:tensorflow:loss = 0.4387231, step = 4300 (0.048 sec)\n",
      "INFO:tensorflow:global_step/sec: 2127.76\n",
      "INFO:tensorflow:loss = 0.42753586, step = 4400 (0.047 sec)\n",
      "INFO:tensorflow:global_step/sec: 2127.54\n",
      "INFO:tensorflow:loss = 0.4275074, step = 4500 (0.047 sec)\n",
      "INFO:tensorflow:global_step/sec: 2127.78\n",
      "INFO:tensorflow:loss = 0.42124605, step = 4600 (0.047 sec)\n",
      "INFO:tensorflow:global_step/sec: 2127.64\n",
      "INFO:tensorflow:loss = 0.42140812, step = 4700 (0.047 sec)\n",
      "INFO:tensorflow:global_step/sec: 2127.66\n",
      "INFO:tensorflow:loss = 0.41549066, step = 4800 (0.047 sec)\n",
      "INFO:tensorflow:global_step/sec: 2083.34\n",
      "INFO:tensorflow:loss = 0.40758088, step = 4900 (0.048 sec)\n",
      "INFO:tensorflow:global_step/sec: 2173.92\n",
      "INFO:tensorflow:loss = 0.39899164, step = 5000 (0.046 sec)\n",
      "INFO:tensorflow:global_step/sec: 2083.33\n",
      "INFO:tensorflow:loss = 0.3964435, step = 5100 (0.048 sec)\n",
      "INFO:tensorflow:global_step/sec: 2173.87\n",
      "INFO:tensorflow:loss = 0.40640914, step = 5200 (0.046 sec)\n",
      "INFO:tensorflow:global_step/sec: 2127.67\n",
      "INFO:tensorflow:loss = 0.39949268, step = 5300 (0.047 sec)\n",
      "INFO:tensorflow:global_step/sec: 2127.67\n",
      "INFO:tensorflow:loss = 0.39450955, step = 5400 (0.046 sec)\n",
      "INFO:tensorflow:global_step/sec: 2173.9\n",
      "INFO:tensorflow:loss = 0.3812644, step = 5500 (0.047 sec)\n",
      "INFO:tensorflow:global_step/sec: 2127.53\n",
      "INFO:tensorflow:loss = 0.38775468, step = 5600 (0.047 sec)\n",
      "INFO:tensorflow:global_step/sec: 2174.04\n",
      "INFO:tensorflow:loss = 0.3799612, step = 5700 (0.046 sec)\n",
      "INFO:tensorflow:global_step/sec: 2083.33\n",
      "INFO:tensorflow:loss = 0.37738407, step = 5800 (0.048 sec)\n",
      "INFO:tensorflow:global_step/sec: 2127.7\n",
      "INFO:tensorflow:loss = 0.3670821, step = 5900 (0.047 sec)\n",
      "INFO:tensorflow:global_step/sec: 2127.7\n",
      "INFO:tensorflow:loss = 0.36919892, step = 6000 (0.047 sec)\n",
      "INFO:tensorflow:global_step/sec: 2083.31\n",
      "INFO:tensorflow:loss = 0.36449176, step = 6100 (0.048 sec)\n",
      "INFO:tensorflow:global_step/sec: 2173.91\n",
      "INFO:tensorflow:loss = 0.34604388, step = 6200 (0.046 sec)\n",
      "INFO:tensorflow:global_step/sec: 2040.83\n",
      "INFO:tensorflow:loss = 0.35328835, step = 6300 (0.049 sec)\n",
      "INFO:tensorflow:global_step/sec: 2083.33\n",
      "INFO:tensorflow:loss = 0.3625411, step = 6400 (0.048 sec)\n",
      "INFO:tensorflow:global_step/sec: 2127.67\n",
      "INFO:tensorflow:loss = 0.34637403, step = 6500 (0.047 sec)\n",
      "INFO:tensorflow:global_step/sec: 2127.58\n",
      "INFO:tensorflow:loss = 0.34543598, step = 6600 (0.047 sec)\n",
      "INFO:tensorflow:global_step/sec: 2127.68\n",
      "INFO:tensorflow:loss = 0.33480895, step = 6700 (0.047 sec)\n",
      "INFO:tensorflow:global_step/sec: 2127.65\n",
      "INFO:tensorflow:loss = 0.34932277, step = 6800 (0.047 sec)\n",
      "INFO:tensorflow:global_step/sec: 1999.99\n",
      "INFO:tensorflow:loss = 0.34112066, step = 6900 (0.050 sec)\n",
      "INFO:tensorflow:global_step/sec: 2127.66\n",
      "INFO:tensorflow:loss = 0.3384652, step = 7000 (0.047 sec)\n",
      "INFO:tensorflow:global_step/sec: 2083.33\n",
      "INFO:tensorflow:loss = 0.33001077, step = 7100 (0.048 sec)\n",
      "INFO:tensorflow:global_step/sec: 2127.73\n",
      "INFO:tensorflow:loss = 0.33305025, step = 7200 (0.047 sec)\n",
      "INFO:tensorflow:global_step/sec: 1999.91\n",
      "INFO:tensorflow:loss = 0.32678303, step = 7300 (0.050 sec)\n",
      "INFO:tensorflow:global_step/sec: 2174.04\n",
      "INFO:tensorflow:loss = 0.32628012, step = 7400 (0.046 sec)\n",
      "INFO:tensorflow:global_step/sec: 2127.65\n",
      "INFO:tensorflow:loss = 0.32118383, step = 7500 (0.047 sec)\n",
      "INFO:tensorflow:global_step/sec: 2173.9\n",
      "INFO:tensorflow:loss = 0.31966949, step = 7600 (0.046 sec)\n",
      "INFO:tensorflow:global_step/sec: 2127.66\n",
      "INFO:tensorflow:loss = 0.31758872, step = 7700 (0.047 sec)\n",
      "INFO:tensorflow:global_step/sec: 2127.66\n",
      "INFO:tensorflow:loss = 0.31542814, step = 7800 (0.047 sec)\n",
      "INFO:tensorflow:global_step/sec: 2083.32\n",
      "INFO:tensorflow:loss = 0.3182006, step = 7900 (0.048 sec)\n",
      "INFO:tensorflow:global_step/sec: 2083.3\n",
      "INFO:tensorflow:loss = 0.316987, step = 8000 (0.048 sec)\n",
      "INFO:tensorflow:global_step/sec: 2127.73\n",
      "INFO:tensorflow:loss = 0.3171258, step = 8100 (0.047 sec)\n",
      "INFO:tensorflow:global_step/sec: 2127.61\n",
      "INFO:tensorflow:loss = 0.30368742, step = 8200 (0.047 sec)\n",
      "INFO:tensorflow:global_step/sec: 2127.66\n",
      "INFO:tensorflow:loss = 0.3154546, step = 8300 (0.047 sec)\n",
      "INFO:tensorflow:global_step/sec: 2083.33\n",
      "INFO:tensorflow:loss = 0.30305806, step = 8400 (0.048 sec)\n",
      "INFO:tensorflow:global_step/sec: 2173.9\n",
      "INFO:tensorflow:loss = 0.3032159, step = 8500 (0.046 sec)\n",
      "INFO:tensorflow:global_step/sec: 2040.86\n",
      "INFO:tensorflow:loss = 0.28815114, step = 8600 (0.049 sec)\n",
      "INFO:tensorflow:global_step/sec: 2127.65\n",
      "INFO:tensorflow:loss = 0.29392534, step = 8700 (0.047 sec)\n",
      "INFO:tensorflow:global_step/sec: 2083.34\n",
      "INFO:tensorflow:loss = 0.30345166, step = 8800 (0.048 sec)\n",
      "INFO:tensorflow:global_step/sec: 2127.64\n",
      "INFO:tensorflow:loss = 0.3004017, step = 8900 (0.047 sec)\n",
      "INFO:tensorflow:global_step/sec: 2083.31\n",
      "INFO:tensorflow:loss = 0.28457236, step = 9000 (0.048 sec)\n",
      "INFO:tensorflow:global_step/sec: 2127.67\n",
      "INFO:tensorflow:loss = 0.2897845, step = 9100 (0.047 sec)\n",
      "INFO:tensorflow:global_step/sec: 2083.37\n",
      "INFO:tensorflow:loss = 0.2822569, step = 9200 (0.048 sec)\n",
      "INFO:tensorflow:global_step/sec: 2083.3\n",
      "INFO:tensorflow:loss = 0.28564975, step = 9300 (0.048 sec)\n",
      "INFO:tensorflow:global_step/sec: 2127.63\n",
      "INFO:tensorflow:loss = 0.2810934, step = 9400 (0.047 sec)\n",
      "INFO:tensorflow:global_step/sec: 2040.81\n",
      "INFO:tensorflow:loss = 0.29376322, step = 9500 (0.048 sec)\n",
      "INFO:tensorflow:global_step/sec: 2127.5\n",
      "INFO:tensorflow:loss = 0.27144516, step = 9600 (0.048 sec)\n",
      "INFO:tensorflow:global_step/sec: 2127.79\n",
      "INFO:tensorflow:loss = 0.27485353, step = 9700 (0.047 sec)\n",
      "INFO:tensorflow:global_step/sec: 2173.96\n",
      "INFO:tensorflow:loss = 0.26067674, step = 9800 (0.046 sec)\n",
      "INFO:tensorflow:global_step/sec: 2127.65\n",
      "INFO:tensorflow:loss = 0.2663288, step = 9900 (0.047 sec)\n",
      "INFO:tensorflow:Calling checkpoint listeners before saving checkpoint 10000...\n",
      "INFO:tensorflow:Saving checkpoints for 10000 into C:\\Users\\Admin\\AppData\\Local\\Temp\\tmp3issvzm9\\model.ckpt.\n",
      "INFO:tensorflow:Calling checkpoint listeners after saving checkpoint 10000...\n",
      "INFO:tensorflow:Loss for final step: 0.2669455.\n"
     ]
    },
    {
     "data": {
      "text/plain": [
       "<tensorflow_estimator.python.estimator.canned.dnn.DNNClassifierV2 at 0x25adf745d30>"
      ]
     },
     "execution_count": 43,
     "metadata": {},
     "output_type": "execute_result"
    }
   ],
   "source": [
    "#building DNN\n",
    "classifier = tf.estimator.DNNClassifier(\n",
    "    feature_columns = my_feature_columns,\n",
    "    hidden_units=[25,15],\n",
    "    n_classes=3\n",
    ")\n",
    "\n",
    "classifier.train(\n",
    "    input_fn=lambda:input_fn(train,train_y,training=True),\n",
    "    steps=10000\n",
    ")"
   ]
  },
  {
   "cell_type": "code",
   "execution_count": 44,
   "id": "1dcb063f",
   "metadata": {},
   "outputs": [
    {
     "name": "stdout",
     "output_type": "stream",
     "text": [
      "INFO:tensorflow:Calling model_fn.\n",
      "INFO:tensorflow:Done calling model_fn.\n",
      "INFO:tensorflow:Starting evaluation at 2023-01-15T10:45:40\n",
      "INFO:tensorflow:Graph was finalized.\n",
      "INFO:tensorflow:Restoring parameters from C:\\Users\\Admin\\AppData\\Local\\Temp\\tmp3issvzm9\\model.ckpt-10000\n",
      "INFO:tensorflow:Running local_init_op.\n",
      "INFO:tensorflow:Done running local_init_op.\n",
      "INFO:tensorflow:Inference Time : 0.17799s\n",
      "INFO:tensorflow:Finished evaluation at 2023-01-15-10:45:40\n",
      "INFO:tensorflow:Saving dict for global step 10000: accuracy = 0.93333334, average_loss = 0.31085446, global_step = 10000, loss = 0.31085446\n",
      "INFO:tensorflow:Saving 'checkpoint_path' summary for global step 10000: C:\\Users\\Admin\\AppData\\Local\\Temp\\tmp3issvzm9\\model.ckpt-10000\n"
     ]
    },
    {
     "data": {
      "text/plain": [
       "{'accuracy': 0.93333334,\n",
       " 'average_loss': 0.31085446,\n",
       " 'loss': 0.31085446,\n",
       " 'global_step': 10000}"
      ]
     },
     "execution_count": 44,
     "metadata": {},
     "output_type": "execute_result"
    }
   ],
   "source": [
    "classifier.evaluate(input_fn=lambda:input_fn(test,test_y,training=False))"
   ]
  },
  {
   "cell_type": "code",
   "execution_count": 47,
   "id": "e61a4641",
   "metadata": {},
   "outputs": [
    {
     "name": "stdout",
     "output_type": "stream",
     "text": [
      "Please type numeric values as prompted.\n",
      "INFO:tensorflow:Calling model_fn.\n",
      "INFO:tensorflow:Done calling model_fn.\n",
      "INFO:tensorflow:Graph was finalized.\n",
      "INFO:tensorflow:Restoring parameters from C:\\Users\\Admin\\AppData\\Local\\Temp\\tmp3issvzm9\\model.ckpt-10000\n",
      "INFO:tensorflow:Running local_init_op.\n",
      "INFO:tensorflow:Done running local_init_op.\n",
      "{'logits': array([ 0.0186332, -0.4426495,  0.5483884], dtype=float32), 'probabilities': array([0.30039132, 0.18938904, 0.51021963], dtype=float32), 'class_ids': array([2], dtype=int64), 'classes': array([b'2'], dtype=object), 'all_class_ids': array([0, 1, 2]), 'all_classes': array([b'0', b'1', b'2'], dtype=object)}\n",
      "Prediction is \"Virginica\" (51.0%)\n"
     ]
    }
   ],
   "source": [
    "#predictions\n",
    "def input_fn(features,batch_size=256):\n",
    "    return tf.data.Dataset.from_tensor_slices(dict(features)).batch(batch_size) \n",
    "\n",
    "features = ['SepalLength','SepalWidth','PetalLenght','PetalWidth']\n",
    "predict = {}\n",
    "\n",
    "print(\"Please type numeric values as prompted.\")\n",
    "for feature in features:\n",
    "    valid = True\n",
    "    while valid:\n",
    "        val = input(feature + \": \")\n",
    "        if not val.isdigit(): valid = False\n",
    "\n",
    "    predict[feature] = [float(val)]\n",
    "\n",
    "predictions = classifier.predict(input_fn=lambda:input_fn(predict))\n",
    "for pred_dict in predictions:\n",
    "    print(pred_dict)\n",
    "    class_id = pred_dict['class_ids'][0]\n",
    "    probability = pred_dict['probabilities'][class_id]\n",
    "\n",
    "    print('Prediction is \"{}\" ({:.1f}%)'.format(SPECIES[class_id],100*probability))"
   ]
  },
  {
   "cell_type": "code",
   "execution_count": null,
   "id": "1f9d6f3e",
   "metadata": {},
   "outputs": [],
   "source": []
  }
 ],
 "metadata": {
  "kernelspec": {
   "display_name": "base",
   "language": "python",
   "name": "python3"
  },
  "language_info": {
   "codemirror_mode": {
    "name": "ipython",
    "version": 3
   },
   "file_extension": ".py",
   "mimetype": "text/x-python",
   "name": "python",
   "nbconvert_exporter": "python",
   "pygments_lexer": "ipython3",
   "version": "3.9.13 (main, Aug 25 2022, 23:51:50) [MSC v.1916 64 bit (AMD64)]"
  },
  "vscode": {
   "interpreter": {
    "hash": "2043299c89c8cd0b4d1a6f5cf4529bd58e6a4e0fe3181a25e0d328c821cdc5c5"
   }
  }
 },
 "nbformat": 4,
 "nbformat_minor": 5
}
