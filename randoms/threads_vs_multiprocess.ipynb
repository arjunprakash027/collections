{
 "cells": [
  {
   "cell_type": "code",
   "execution_count": 1,
   "metadata": {},
   "outputs": [],
   "source": [
    "import timeit\n",
    "import requests\n",
    "import threading\n",
    "import multiprocessing"
   ]
  },
  {
   "cell_type": "code",
   "execution_count": 2,
   "metadata": {},
   "outputs": [
    {
     "name": "stdout",
     "output_type": "stream",
     "text": [
      "['https://picsum.photos/100', 'https://picsum.photos/101', 'https://picsum.photos/102', 'https://picsum.photos/103', 'https://picsum.photos/104', 'https://picsum.photos/105', 'https://picsum.photos/106', 'https://picsum.photos/107', 'https://picsum.photos/108', 'https://picsum.photos/109', 'https://picsum.photos/110', 'https://picsum.photos/111', 'https://picsum.photos/112', 'https://picsum.photos/113', 'https://picsum.photos/114', 'https://picsum.photos/115', 'https://picsum.photos/116', 'https://picsum.photos/117', 'https://picsum.photos/118', 'https://picsum.photos/119', 'https://picsum.photos/120', 'https://picsum.photos/121', 'https://picsum.photos/122', 'https://picsum.photos/123', 'https://picsum.photos/124', 'https://picsum.photos/125', 'https://picsum.photos/126', 'https://picsum.photos/127', 'https://picsum.photos/128', 'https://picsum.photos/129', 'https://picsum.photos/130', 'https://picsum.photos/131', 'https://picsum.photos/132', 'https://picsum.photos/133', 'https://picsum.photos/134', 'https://picsum.photos/135', 'https://picsum.photos/136', 'https://picsum.photos/137', 'https://picsum.photos/138', 'https://picsum.photos/139', 'https://picsum.photos/140', 'https://picsum.photos/141', 'https://picsum.photos/142', 'https://picsum.photos/143', 'https://picsum.photos/144', 'https://picsum.photos/145', 'https://picsum.photos/146', 'https://picsum.photos/147', 'https://picsum.photos/148', 'https://picsum.photos/149', 'https://picsum.photos/150', 'https://picsum.photos/151', 'https://picsum.photos/152', 'https://picsum.photos/153', 'https://picsum.photos/154', 'https://picsum.photos/155', 'https://picsum.photos/156', 'https://picsum.photos/157', 'https://picsum.photos/158', 'https://picsum.photos/159', 'https://picsum.photos/160', 'https://picsum.photos/161', 'https://picsum.photos/162', 'https://picsum.photos/163', 'https://picsum.photos/164', 'https://picsum.photos/165', 'https://picsum.photos/166', 'https://picsum.photos/167', 'https://picsum.photos/168', 'https://picsum.photos/169', 'https://picsum.photos/170', 'https://picsum.photos/171', 'https://picsum.photos/172', 'https://picsum.photos/173', 'https://picsum.photos/174', 'https://picsum.photos/175', 'https://picsum.photos/176', 'https://picsum.photos/177', 'https://picsum.photos/178', 'https://picsum.photos/179', 'https://picsum.photos/180', 'https://picsum.photos/181', 'https://picsum.photos/182', 'https://picsum.photos/183', 'https://picsum.photos/184', 'https://picsum.photos/185', 'https://picsum.photos/186', 'https://picsum.photos/187', 'https://picsum.photos/188', 'https://picsum.photos/189', 'https://picsum.photos/190', 'https://picsum.photos/191', 'https://picsum.photos/192', 'https://picsum.photos/193', 'https://picsum.photos/194', 'https://picsum.photos/195', 'https://picsum.photos/196', 'https://picsum.photos/197', 'https://picsum.photos/198', 'https://picsum.photos/199', 'https://picsum.photos/200', 'https://picsum.photos/201', 'https://picsum.photos/202', 'https://picsum.photos/203', 'https://picsum.photos/204', 'https://picsum.photos/205', 'https://picsum.photos/206', 'https://picsum.photos/207', 'https://picsum.photos/208', 'https://picsum.photos/209', 'https://picsum.photos/210', 'https://picsum.photos/211', 'https://picsum.photos/212', 'https://picsum.photos/213', 'https://picsum.photos/214', 'https://picsum.photos/215', 'https://picsum.photos/216', 'https://picsum.photos/217', 'https://picsum.photos/218', 'https://picsum.photos/219', 'https://picsum.photos/220', 'https://picsum.photos/221', 'https://picsum.photos/222', 'https://picsum.photos/223', 'https://picsum.photos/224', 'https://picsum.photos/225', 'https://picsum.photos/226', 'https://picsum.photos/227', 'https://picsum.photos/228', 'https://picsum.photos/229', 'https://picsum.photos/230', 'https://picsum.photos/231', 'https://picsum.photos/232', 'https://picsum.photos/233', 'https://picsum.photos/234', 'https://picsum.photos/235', 'https://picsum.photos/236', 'https://picsum.photos/237', 'https://picsum.photos/238', 'https://picsum.photos/239', 'https://picsum.photos/240', 'https://picsum.photos/241', 'https://picsum.photos/242', 'https://picsum.photos/243', 'https://picsum.photos/244', 'https://picsum.photos/245', 'https://picsum.photos/246', 'https://picsum.photos/247', 'https://picsum.photos/248', 'https://picsum.photos/249', 'https://picsum.photos/250', 'https://picsum.photos/251', 'https://picsum.photos/252', 'https://picsum.photos/253', 'https://picsum.photos/254', 'https://picsum.photos/255', 'https://picsum.photos/256', 'https://picsum.photos/257', 'https://picsum.photos/258', 'https://picsum.photos/259', 'https://picsum.photos/260', 'https://picsum.photos/261', 'https://picsum.photos/262', 'https://picsum.photos/263', 'https://picsum.photos/264', 'https://picsum.photos/265', 'https://picsum.photos/266', 'https://picsum.photos/267', 'https://picsum.photos/268', 'https://picsum.photos/269', 'https://picsum.photos/270', 'https://picsum.photos/271', 'https://picsum.photos/272', 'https://picsum.photos/273', 'https://picsum.photos/274', 'https://picsum.photos/275', 'https://picsum.photos/276', 'https://picsum.photos/277', 'https://picsum.photos/278', 'https://picsum.photos/279', 'https://picsum.photos/280', 'https://picsum.photos/281', 'https://picsum.photos/282', 'https://picsum.photos/283', 'https://picsum.photos/284', 'https://picsum.photos/285', 'https://picsum.photos/286', 'https://picsum.photos/287', 'https://picsum.photos/288', 'https://picsum.photos/289', 'https://picsum.photos/290', 'https://picsum.photos/291', 'https://picsum.photos/292', 'https://picsum.photos/293', 'https://picsum.photos/294', 'https://picsum.photos/295', 'https://picsum.photos/296', 'https://picsum.photos/297', 'https://picsum.photos/298', 'https://picsum.photos/299', 'https://picsum.photos/300', 'https://picsum.photos/301', 'https://picsum.photos/302', 'https://picsum.photos/303', 'https://picsum.photos/304', 'https://picsum.photos/305', 'https://picsum.photos/306', 'https://picsum.photos/307', 'https://picsum.photos/308', 'https://picsum.photos/309', 'https://picsum.photos/310', 'https://picsum.photos/311', 'https://picsum.photos/312', 'https://picsum.photos/313', 'https://picsum.photos/314', 'https://picsum.photos/315', 'https://picsum.photos/316', 'https://picsum.photos/317', 'https://picsum.photos/318', 'https://picsum.photos/319', 'https://picsum.photos/320', 'https://picsum.photos/321', 'https://picsum.photos/322', 'https://picsum.photos/323', 'https://picsum.photos/324', 'https://picsum.photos/325', 'https://picsum.photos/326', 'https://picsum.photos/327', 'https://picsum.photos/328', 'https://picsum.photos/329', 'https://picsum.photos/330', 'https://picsum.photos/331', 'https://picsum.photos/332', 'https://picsum.photos/333', 'https://picsum.photos/334', 'https://picsum.photos/335', 'https://picsum.photos/336', 'https://picsum.photos/337', 'https://picsum.photos/338', 'https://picsum.photos/339', 'https://picsum.photos/340', 'https://picsum.photos/341', 'https://picsum.photos/342', 'https://picsum.photos/343', 'https://picsum.photos/344', 'https://picsum.photos/345', 'https://picsum.photos/346', 'https://picsum.photos/347', 'https://picsum.photos/348', 'https://picsum.photos/349', 'https://picsum.photos/350', 'https://picsum.photos/351', 'https://picsum.photos/352', 'https://picsum.photos/353', 'https://picsum.photos/354', 'https://picsum.photos/355', 'https://picsum.photos/356', 'https://picsum.photos/357', 'https://picsum.photos/358', 'https://picsum.photos/359', 'https://picsum.photos/360', 'https://picsum.photos/361', 'https://picsum.photos/362', 'https://picsum.photos/363', 'https://picsum.photos/364', 'https://picsum.photos/365', 'https://picsum.photos/366', 'https://picsum.photos/367', 'https://picsum.photos/368', 'https://picsum.photos/369', 'https://picsum.photos/370', 'https://picsum.photos/371', 'https://picsum.photos/372', 'https://picsum.photos/373', 'https://picsum.photos/374', 'https://picsum.photos/375', 'https://picsum.photos/376', 'https://picsum.photos/377', 'https://picsum.photos/378', 'https://picsum.photos/379', 'https://picsum.photos/380', 'https://picsum.photos/381', 'https://picsum.photos/382', 'https://picsum.photos/383', 'https://picsum.photos/384', 'https://picsum.photos/385', 'https://picsum.photos/386', 'https://picsum.photos/387', 'https://picsum.photos/388', 'https://picsum.photos/389', 'https://picsum.photos/390', 'https://picsum.photos/391', 'https://picsum.photos/392', 'https://picsum.photos/393', 'https://picsum.photos/394', 'https://picsum.photos/395', 'https://picsum.photos/396', 'https://picsum.photos/397', 'https://picsum.photos/398', 'https://picsum.photos/399', 'https://picsum.photos/400', 'https://picsum.photos/401', 'https://picsum.photos/402', 'https://picsum.photos/403', 'https://picsum.photos/404', 'https://picsum.photos/405', 'https://picsum.photos/406', 'https://picsum.photos/407', 'https://picsum.photos/408', 'https://picsum.photos/409', 'https://picsum.photos/410', 'https://picsum.photos/411', 'https://picsum.photos/412', 'https://picsum.photos/413', 'https://picsum.photos/414', 'https://picsum.photos/415', 'https://picsum.photos/416', 'https://picsum.photos/417', 'https://picsum.photos/418', 'https://picsum.photos/419', 'https://picsum.photos/420', 'https://picsum.photos/421', 'https://picsum.photos/422', 'https://picsum.photos/423', 'https://picsum.photos/424', 'https://picsum.photos/425', 'https://picsum.photos/426', 'https://picsum.photos/427', 'https://picsum.photos/428', 'https://picsum.photos/429', 'https://picsum.photos/430', 'https://picsum.photos/431', 'https://picsum.photos/432', 'https://picsum.photos/433', 'https://picsum.photos/434', 'https://picsum.photos/435', 'https://picsum.photos/436', 'https://picsum.photos/437', 'https://picsum.photos/438', 'https://picsum.photos/439', 'https://picsum.photos/440', 'https://picsum.photos/441', 'https://picsum.photos/442', 'https://picsum.photos/443', 'https://picsum.photos/444', 'https://picsum.photos/445', 'https://picsum.photos/446', 'https://picsum.photos/447', 'https://picsum.photos/448', 'https://picsum.photos/449', 'https://picsum.photos/450', 'https://picsum.photos/451', 'https://picsum.photos/452', 'https://picsum.photos/453', 'https://picsum.photos/454', 'https://picsum.photos/455', 'https://picsum.photos/456', 'https://picsum.photos/457', 'https://picsum.photos/458', 'https://picsum.photos/459', 'https://picsum.photos/460', 'https://picsum.photos/461', 'https://picsum.photos/462', 'https://picsum.photos/463', 'https://picsum.photos/464', 'https://picsum.photos/465', 'https://picsum.photos/466', 'https://picsum.photos/467', 'https://picsum.photos/468', 'https://picsum.photos/469', 'https://picsum.photos/470', 'https://picsum.photos/471', 'https://picsum.photos/472', 'https://picsum.photos/473', 'https://picsum.photos/474', 'https://picsum.photos/475', 'https://picsum.photos/476', 'https://picsum.photos/477', 'https://picsum.photos/478', 'https://picsum.photos/479', 'https://picsum.photos/480', 'https://picsum.photos/481', 'https://picsum.photos/482', 'https://picsum.photos/483', 'https://picsum.photos/484', 'https://picsum.photos/485', 'https://picsum.photos/486', 'https://picsum.photos/487', 'https://picsum.photos/488', 'https://picsum.photos/489', 'https://picsum.photos/490', 'https://picsum.photos/491', 'https://picsum.photos/492', 'https://picsum.photos/493', 'https://picsum.photos/494', 'https://picsum.photos/495', 'https://picsum.photos/496', 'https://picsum.photos/497', 'https://picsum.photos/498', 'https://picsum.photos/499']\n"
     ]
    }
   ],
   "source": [
    "image_urls = []\n",
    "for i in range(100,500):\n",
    "    image_urls.append(f'https://picsum.photos/{i}')\n",
    "\n",
    "print(image_urls)"
   ]
  },
  {
   "cell_type": "code",
   "execution_count": 3,
   "metadata": {},
   "outputs": [],
   "source": [
    "def download_image(image_url):\n",
    "    response = requests.get(image_url)\n",
    "    if response.status_code == 200:\n",
    "        with open(f\"images/{image_url.split('/')[-1]}.png\", 'wb') as f:\n",
    "            f.write(response.content)\n",
    "    else:\n",
    "        print(f'Error downloading image {image_url}')"
   ]
  },
  {
   "attachments": {},
   "cell_type": "markdown",
   "metadata": {},
   "source": [
    "## Normal Execution"
   ]
  },
  {
   "cell_type": "code",
   "execution_count": 4,
   "metadata": {},
   "outputs": [],
   "source": [
    "def normal_execution():\n",
    "    start = timeit.default_timer()\n",
    "    for image_url in image_urls:\n",
    "        download_image(image_url)\n",
    "    end = timeit.default_timer()\n",
    "    print(f'Normal Execution Time: {end-start}')"
   ]
  },
  {
   "cell_type": "code",
   "execution_count": 28,
   "metadata": {},
   "outputs": [
    {
     "name": "stdout",
     "output_type": "stream",
     "text": [
      "Normal Execution Time: 265.1431192\n"
     ]
    }
   ],
   "source": [
    "normal_execution()"
   ]
  },
  {
   "attachments": {},
   "cell_type": "markdown",
   "metadata": {},
   "source": [
    "its takes about 265s in normal mode"
   ]
  },
  {
   "attachments": {},
   "cell_type": "markdown",
   "metadata": {},
   "source": [
    "## Threading "
   ]
  },
  {
   "cell_type": "code",
   "execution_count": 5,
   "metadata": {},
   "outputs": [],
   "source": [
    "def threading_download():\n",
    "    start = timeit.default_timer()\n",
    "    threads = []\n",
    "\n",
    "    for image_url in image_urls:\n",
    "        t = threading.Thread(target=download_image,args=(image_url,))\n",
    "        threads.append(t)\n",
    "    \n",
    "    for thread in threads:\n",
    "        thread.start()\n",
    "\n",
    "    for thread in threads:\n",
    "        thread.join()\n",
    "    \n",
    "    end = timeit.default_timer()\n",
    "\n",
    "    print(f'Threading Execution Time: {end-start}')"
   ]
  },
  {
   "cell_type": "code",
   "execution_count": 6,
   "metadata": {},
   "outputs": [
    {
     "name": "stdout",
     "output_type": "stream",
     "text": [
      "Threading Execution Time: 4.259069499999896\n"
     ]
    }
   ],
   "source": [
    "threading_download()"
   ]
  },
  {
   "attachments": {},
   "cell_type": "markdown",
   "metadata": {},
   "source": [
    "It took 3.9s in threading mode"
   ]
  },
  {
   "attachments": {},
   "cell_type": "markdown",
   "metadata": {},
   "source": [
    "## Multiprocessing"
   ]
  },
  {
   "cell_type": "code",
   "execution_count": 43,
   "metadata": {},
   "outputs": [],
   "source": [
    "def multiprocessing_download():\n",
    "    start = timeit.default_timer()\n",
    "    processes = []\n",
    "\n",
    "    for image_url in image_urls:\n",
    "        print('downloading image ',image_url)\n",
    "        p = multiprocessing.Process(target=download_image,args=(image_url,))\n",
    "        processes.append(p)\n",
    "    \n",
    "    for process in processes:\n",
    "        process.start()\n",
    "    \n",
    "    for process in processes:\n",
    "        process.join()\n",
    "\n",
    "    end = timeit.default_timer()\n",
    "\n",
    "    print(f'Multiprocessing Execution Time: {end-start}')"
   ]
  },
  {
   "cell_type": "code",
   "execution_count": 4,
   "metadata": {},
   "outputs": [],
   "source": [
    "def pool_handler():\n",
    "    with multiprocessing.Pool(4) as pool:\n",
    "        pool.map(download_image, image_urls)"
   ]
  },
  {
   "cell_type": "code",
   "execution_count": 5,
   "metadata": {},
   "outputs": [],
   "source": [
    "pool_handler()"
   ]
  },
  {
   "cell_type": "code",
   "execution_count": null,
   "metadata": {},
   "outputs": [],
   "source": [
    "multiprocessing_download()"
   ]
  },
  {
   "attachments": {},
   "cell_type": "markdown",
   "metadata": {},
   "source": [
    "Takes 3.4s in multiprocessing mode"
   ]
  },
  {
   "cell_type": "code",
   "execution_count": null,
   "metadata": {},
   "outputs": [],
   "source": []
  }
 ],
 "metadata": {
  "kernelspec": {
   "display_name": "Python 3",
   "language": "python",
   "name": "python3"
  },
  "language_info": {
   "codemirror_mode": {
    "name": "ipython",
    "version": 3
   },
   "file_extension": ".py",
   "mimetype": "text/x-python",
   "name": "python",
   "nbconvert_exporter": "python",
   "pygments_lexer": "ipython3",
   "version": "3.11.3"
  },
  "orig_nbformat": 4
 },
 "nbformat": 4,
 "nbformat_minor": 2
}
