{
 "cells": [
  {
   "attachments": {},
   "cell_type": "markdown",
   "metadata": {},
   "source": [
    "### Pascals triangle\n"
   ]
  },
  {
   "attachments": {},
   "cell_type": "markdown",
   "metadata": {},
   "source": [
    "    nc0\n",
    "\n",
    "nc1 nc1\n"
   ]
  },
  {
   "cell_type": "code",
   "execution_count": 14,
   "metadata": {},
   "outputs": [
    {
     "name": "stdout",
     "output_type": "stream",
     "text": [
      "   1 \n",
      "  1 1 \n"
     ]
    }
   ],
   "source": [
    "from math import factorial\n",
    "a = int(input(\"Enter a number: \"))\n",
    "\n",
    "for i in range(a):\n",
    "    for j in range(a-i+1):\n",
    "        print(end=\" \")\n",
    "    for j in range(i+1):\n",
    "        print(factorial(i)//(factorial(j)*factorial(i-j)), end=\" \")\n",
    "    print()\n"
   ]
  },
  {
   "cell_type": "code",
   "execution_count": 12,
   "metadata": {},
   "outputs": [
    {
     "name": "stdout",
     "output_type": "stream",
     "text": [
      "           1 \n",
      "          1 1 \n",
      "         1 2 1 \n",
      "        1 3 3 1 \n",
      "       1 4 6 4 1 \n",
      "      1 5 10 10 5 1 \n",
      "     1 6 15 20 15 6 1 \n",
      "    1 7 21 35 35 21 7 1 \n",
      "   1 8 28 56 70 56 28 8 1 \n",
      "  1 9 36 84 126 126 84 36 9 1 \n"
     ]
    }
   ],
   "source": [
    "from math import factorial\n",
    "\n",
    "for i in range(10):\n",
    "    for j in range(10-i+1):\n",
    "        print(end=\" \")\n",
    "    for j in range(i+1):\n",
    "        print(factorial(i)//(factorial(j)*factorial(i-j)), end=\" \")\n",
    "    print()\n"
   ]
  },
  {
   "cell_type": "code",
   "execution_count": 17,
   "metadata": {},
   "outputs": [
    {
     "ename": "IndexError",
     "evalue": "list index out of range",
     "output_type": "error",
     "traceback": [
      "\u001b[1;31m---------------------------------------------------------------------------\u001b[0m",
      "\u001b[1;31mIndexError\u001b[0m                                Traceback (most recent call last)",
      "Cell \u001b[1;32mIn[17], line 8\u001b[0m\n\u001b[0;32m      5\u001b[0m \u001b[39mfor\u001b[39;00m i \u001b[39min\u001b[39;00m \u001b[39mrange\u001b[39m(\u001b[39m1\u001b[39m, n):\n\u001b[0;32m      6\u001b[0m     \u001b[39mfor\u001b[39;00m j \u001b[39min\u001b[39;00m \u001b[39mrange\u001b[39m(\u001b[39m1\u001b[39m, i \u001b[39m+\u001b[39m \u001b[39m1\u001b[39m):\n\u001b[0;32m      7\u001b[0m         \u001b[39m# The entry in the current row and column is the sum of the two entries above it.\u001b[39;00m\n\u001b[1;32m----> 8\u001b[0m         triangle[i][j] \u001b[39m=\u001b[39m triangle[i \u001b[39m-\u001b[39;49m \u001b[39m1\u001b[39;49m][j \u001b[39m-\u001b[39;49m \u001b[39m1\u001b[39;49m] \u001b[39m+\u001b[39m triangle[i \u001b[39m-\u001b[39m \u001b[39m1\u001b[39m][j]\n\u001b[0;32m     10\u001b[0m     \u001b[39m# Print the triangle.\u001b[39;00m\n\u001b[0;32m     11\u001b[0m \u001b[39mfor\u001b[39;00m row \u001b[39min\u001b[39;00m triangle:\n",
      "\u001b[1;31mIndexError\u001b[0m: list index out of range"
     ]
    }
   ],
   "source": [
    "n = 5\n",
    "triangle = [[1] * i for i in range(n + 1)]\n",
    "\n",
    "   # Iterate over the rows of the triangle.\n",
    "for i in range(1, n):\n",
    "    for j in range(1, i + 1):\n",
    "        # The entry in the current row and column is the sum of the two entries above it.\n",
    "        triangle[i][j] = triangle[i - 1][j - 1] + triangle[i - 1][j]\n",
    "\n",
    "    # Print the triangle.\n",
    "for row in triangle:\n",
    "    print(' '.join([str(x) for x in row]))\n"
   ]
  },
  {
   "cell_type": "code",
   "execution_count": 7,
   "metadata": {},
   "outputs": [
    {
     "name": "stdout",
     "output_type": "stream",
     "text": [
      "thread function 1 running\n",
      "thread function 2 running\n",
      "thread function 3 running\n",
      "thread function 1 ended\n",
      "thread function 2 ended\n",
      "thread function 3 ended\n"
     ]
    }
   ],
   "source": [
    "import threading\n",
    "import time\n",
    "\n",
    "def thread_function(number):\n",
    "    print(\"thread function {} running\".format(number))\n",
    "    time.sleep(3)\n",
    "    print(\"thread function {} ended\".format(number))\n",
    "\n",
    "t1 = threading.Thread(target=thread_function,args=(1,))\n",
    "t2 = threading.Thread(target=thread_function,args=(2,))\n",
    "t3 = threading.Thread(target=thread_function,args=(3,))\n",
    "\n",
    "t1.start()\n",
    "t2.start()\n",
    "t3.start()\n",
    "\n",
    "t1.join()\n",
    "t2.join()\n",
    "t3.join()"
   ]
  },
  {
   "cell_type": "code",
   "execution_count": null,
   "metadata": {},
   "outputs": [],
   "source": []
  }
 ],
 "metadata": {
  "kernelspec": {
   "display_name": "base",
   "language": "python",
   "name": "python3"
  },
  "language_info": {
   "codemirror_mode": {
    "name": "ipython",
    "version": 3
   },
   "file_extension": ".py",
   "mimetype": "text/x-python",
   "name": "python",
   "nbconvert_exporter": "python",
   "pygments_lexer": "ipython3",
   "version": "3.11.3"
  },
  "orig_nbformat": 4
 },
 "nbformat": 4,
 "nbformat_minor": 2
}
