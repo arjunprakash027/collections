{
 "cells": [
  {
   "attachments": {},
   "cell_type": "markdown",
   "metadata": {},
   "source": [
    "## DSA using python"
   ]
  },
  {
   "attachments": {},
   "cell_type": "markdown",
   "metadata": {},
   "source": [
    "### sample factorial\n"
   ]
  },
  {
   "cell_type": "code",
   "execution_count": 23,
   "metadata": {},
   "outputs": [
    {
     "data": {
      "text/plain": [
       "False"
      ]
     },
     "execution_count": 23,
     "metadata": {},
     "output_type": "execute_result"
    }
   ],
   "source": [
    "def factors(n):\n",
    "    for i in range(1,n+1):\n",
    "        if n%i == 0:\n",
    "            yield i\n",
    "\n",
    "def prime(n):\n",
    "    return len(list(factors(n))) == 2\n"
   ]
  },
  {
   "attachments": {},
   "cell_type": "markdown",
   "metadata": {},
   "source": [
    "### GCD"
   ]
  },
  {
   "attachments": {},
   "cell_type": "markdown",
   "metadata": {},
   "source": [
    "Brute force"
   ]
  },
  {
   "cell_type": "code",
   "execution_count": 85,
   "metadata": {},
   "outputs": [
    {
     "name": "stdout",
     "output_type": "stream",
     "text": [
      "4\n"
     ]
    }
   ],
   "source": [
    "def gcd(m,n):\n",
    "    for i in range(1,min(m,n)+1):\n",
    "        if m%i == 0 and n%i == 0:\n",
    "            yield i\n",
    "\n",
    "print(list(gcd(8,12))[-1])"
   ]
  },
  {
   "cell_type": "code",
   "execution_count": 29,
   "metadata": {},
   "outputs": [
    {
     "name": "stdout",
     "output_type": "stream",
     "text": [
      "4\n"
     ]
    }
   ],
   "source": [
    "def gcd(m,n):\n",
    "    for i in range(1,min(m,n)+1):\n",
    "        if m%i == 0 and n%i == 0:\n",
    "            most_recent_common_factor = i\n",
    "    return (most_recent_common_factor)\n",
    "\n",
    "print(gcd(8,12))\n"
   ]
  },
  {
   "attachments": {},
   "cell_type": "markdown",
   "metadata": {},
   "source": [
    "Another stratergy "
   ]
  },
  {
   "cell_type": "code",
   "execution_count": null,
   "metadata": {},
   "outputs": [],
   "source": [
    "\n",
    "def gcd(m,n):\n",
    "    global steps\n",
    "    (a,b) = (max(m,n),min(m,n))\n",
    "    print(steps)\n",
    "\n",
    "    if a%b == 0:\n",
    "        return b\n",
    "    else:\n",
    "        steps += 1\n",
    "        return gcd(b,a-b)\n",
    "    \n",
    "\n",
    "print(gcd(99,2))"
   ]
  },
  {
   "attachments": {},
   "cell_type": "markdown",
   "metadata": {},
   "source": [
    "Euclid algorithm"
   ]
  },
  {
   "cell_type": "code",
   "execution_count": 132,
   "metadata": {},
   "outputs": [],
   "source": [
    "def gcd(m,n):\n",
    "    (a,b) = (max(m,n),min(m,n))\n",
    "\n",
    "    if a%b == 0:\n",
    "        return b\n",
    "    else:\n",
    "        return gcd(b,a%b)\n",
    "\n",
    "#non trivial algorithm -> An algorithm that improves the performance of an obvious algorithm "
   ]
  },
  {
   "cell_type": "code",
   "execution_count": 133,
   "metadata": {},
   "outputs": [
    {
     "name": "stdout",
     "output_type": "stream",
     "text": [
      "9\n"
     ]
    }
   ],
   "source": [
    "print(gcd(9999999999,9))"
   ]
  },
  {
   "attachments": {},
   "cell_type": "markdown",
   "metadata": {},
   "source": [
    "### prime numbers"
   ]
  },
  {
   "cell_type": "code",
   "execution_count": 70,
   "metadata": {},
   "outputs": [],
   "source": [
    "from math import sqrt\n",
    "def prime(n):\n",
    "    (result,i) = (True,2)\n",
    "    while(result and (i<=sqrt(n))):\n",
    "        if n%i == 0:\n",
    "            result = False\n",
    "        i+=1\n",
    "    return result\n",
    "    "
   ]
  },
  {
   "cell_type": "code",
   "execution_count": 71,
   "metadata": {},
   "outputs": [
    {
     "data": {
      "text/plain": [
       "False"
      ]
     },
     "execution_count": 71,
     "metadata": {},
     "output_type": "execute_result"
    }
   ],
   "source": [
    "prime(49)"
   ]
  },
  {
   "cell_type": "code",
   "execution_count": null,
   "metadata": {},
   "outputs": [],
   "source": [
    "def difference_distribution(n):\n",
    "    list_of_prime = []\n",
    "    difference_distribution_list = []\n",
    "    for i in range(2,n+1):\n",
    "        if prime(i):\n",
    "            list_of_prime.append(i)\n",
    "    for j in range(0,len(list_of_prime)-1):\n",
    "        difference_distribution_list.append(list_of_prime[j+1] - list_of_prime[j])\n",
    "    return (difference_distribution_list)\n",
    "    \n",
    "\n",
    "difference_distribution(10000)"
   ]
  },
  {
   "cell_type": "code",
   "execution_count": 82,
   "metadata": {},
   "outputs": [
    {
     "name": "stdout",
     "output_type": "stream",
     "text": [
      "{1: 1, 2: 35, 4: 40, 6: 44, 8: 15, 14: 7, 10: 16, 12: 7, 18: 1, 20: 1}\n"
     ]
    }
   ],
   "source": [
    "freq = {}\n",
    "\n",
    "for i in difference_distribution(1000):\n",
    "    if i in freq.keys():\n",
    "        freq[i] = freq[i]+1\n",
    "    else:\n",
    "        freq[i] = 1\n",
    "\n",
    "print(freq)"
   ]
  },
  {
   "attachments": {},
   "cell_type": "markdown",
   "metadata": {},
   "source": [
    "### Exeption Handling"
   ]
  },
  {
   "attachments": {},
   "cell_type": "markdown",
   "metadata": {},
   "source": [
    "- goal is to recover gracefully \n",
    "- provide a contegency plan \n",
    "- handle exeptional cases"
   ]
  },
  {
   "cell_type": "code",
   "execution_count": 134,
   "metadata": {},
   "outputs": [
    {
     "name": "stdout",
     "output_type": "stream",
     "text": [
      "There are no 23 elements in the list\n"
     ]
    }
   ],
   "source": [
    "def execpt_handle_array(n):\n",
    "    try:\n",
    "        print(n[23])\n",
    "    except IndexError:\n",
    "        print(\"There are no 23 elements in the list\")\n",
    "\n",
    "execpt_handle_array([2,3,4,5])"
   ]
  },
  {
   "attachments": {},
   "cell_type": "markdown",
   "metadata": {},
   "source": [
    "Using execption positively"
   ]
  },
  {
   "cell_type": "code",
   "execution_count": 136,
   "metadata": {},
   "outputs": [
    {
     "name": "stdout",
     "output_type": "stream",
     "text": [
      "{1: 1, 2: 6, 3: 10, 4: 10, 5: 7, 6: 5, 7: 2, 24: 1, 66: 1, 56: 2, 34: 1, 67: 1}\n"
     ]
    }
   ],
   "source": [
    "count = {}\n",
    "k = [1,2,3,4,5,6,7,4,24,5,66,4,4,3,4,56,3,2,2,3,3,4,5,56,4,3,3,2,2,3,4,5,6,6,6,5,4,3,3,2,34,4,5,5,6,67,7]\n",
    "\n",
    "for i in k:\n",
    "    try:\n",
    "        count[i] += 1\n",
    "    except KeyError:\n",
    "        count[i] = 1\n",
    "\n",
    "print(count)\n"
   ]
  },
  {
   "attachments": {},
   "cell_type": "markdown",
   "metadata": {},
   "source": [
    "Sequence of handling error"
   ]
  },
  {
   "cell_type": "code",
   "execution_count": 139,
   "metadata": {},
   "outputs": [
    {
     "ename": "ValueError",
     "evalue": "invalid literal for int() with base 10: '20.345'",
     "output_type": "error",
     "traceback": [
      "\u001b[1;31m---------------------------------------------------------------------------\u001b[0m",
      "\u001b[1;31mValueError\u001b[0m                                Traceback (most recent call last)",
      "Cell \u001b[1;32mIn[139], line 16\u001b[0m\n\u001b[0;32m     10\u001b[0m \u001b[39mdef\u001b[39;00m \u001b[39mm\u001b[39m(x):\n\u001b[0;32m     11\u001b[0m     \u001b[39mprint\u001b[39m(\u001b[39mint\u001b[39m(x))\n\u001b[1;32m---> 16\u001b[0m f(\u001b[39m\"\u001b[39;49m\u001b[39m20.345\u001b[39;49m\u001b[39m\"\u001b[39;49m)\n",
      "Cell \u001b[1;32mIn[139], line 2\u001b[0m, in \u001b[0;36mf\u001b[1;34m(x)\u001b[0m\n\u001b[0;32m      1\u001b[0m \u001b[39mdef\u001b[39;00m \u001b[39mf\u001b[39m(x):\n\u001b[1;32m----> 2\u001b[0m     a(x)\n",
      "Cell \u001b[1;32mIn[139], line 5\u001b[0m, in \u001b[0;36ma\u001b[1;34m(x)\u001b[0m\n\u001b[0;32m      4\u001b[0m \u001b[39mdef\u001b[39;00m \u001b[39ma\u001b[39m(x):\n\u001b[1;32m----> 5\u001b[0m     k(x)\n",
      "Cell \u001b[1;32mIn[139], line 8\u001b[0m, in \u001b[0;36mk\u001b[1;34m(x)\u001b[0m\n\u001b[0;32m      7\u001b[0m \u001b[39mdef\u001b[39;00m \u001b[39mk\u001b[39m(x):\n\u001b[1;32m----> 8\u001b[0m     m(x)\n",
      "Cell \u001b[1;32mIn[139], line 11\u001b[0m, in \u001b[0;36mm\u001b[1;34m(x)\u001b[0m\n\u001b[0;32m     10\u001b[0m \u001b[39mdef\u001b[39;00m \u001b[39mm\u001b[39m(x):\n\u001b[1;32m---> 11\u001b[0m     \u001b[39mprint\u001b[39m(\u001b[39mint\u001b[39;49m(x))\n",
      "\u001b[1;31mValueError\u001b[0m: invalid literal for int() with base 10: '20.345'"
     ]
    }
   ],
   "source": [
    "\n",
    "\n",
    "def f(x):\n",
    "    a(x) #error inherited from m(x) -> k(x) -> a(x)\n",
    "\n",
    "def a(x):\n",
    "    k(x) #error inherited from m(x) -> k(x)\n",
    "\n",
    "def k(x):\n",
    "    m(x) #error inherited from m(x)\n",
    "\n",
    "def m(x):\n",
    "    print(int(x)) #error raised\n",
    "\n",
    "\n",
    "f(\"20.345\")\n",
    "    "
   ]
  },
  {
   "cell_type": "code",
   "execution_count": null,
   "metadata": {},
   "outputs": [],
   "source": []
  }
 ],
 "metadata": {
  "kernelspec": {
   "display_name": "base",
   "language": "python",
   "name": "python3"
  },
  "language_info": {
   "codemirror_mode": {
    "name": "ipython",
    "version": 3
   },
   "file_extension": ".py",
   "mimetype": "text/x-python",
   "name": "python",
   "nbconvert_exporter": "python",
   "pygments_lexer": "ipython3",
   "version": "3.9.13"
  },
  "orig_nbformat": 4
 },
 "nbformat": 4,
 "nbformat_minor": 2
}
