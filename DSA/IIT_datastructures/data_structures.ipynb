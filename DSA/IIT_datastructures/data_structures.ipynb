{
 "cells": [
  {
   "attachments": {},
   "cell_type": "markdown",
   "metadata": {},
   "source": [
    "## DSA using python"
   ]
  },
  {
   "attachments": {},
   "cell_type": "markdown",
   "metadata": {},
   "source": [
    "### sample factorial\n"
   ]
  },
  {
   "cell_type": "code",
   "execution_count": 23,
   "metadata": {},
   "outputs": [
    {
     "data": {
      "text/plain": [
       "False"
      ]
     },
     "execution_count": 23,
     "metadata": {},
     "output_type": "execute_result"
    }
   ],
   "source": [
    "def factors(n):\n",
    "    for i in range(1,n+1):\n",
    "        if n%i == 0:\n",
    "            yield i\n",
    "\n",
    "def prime(n):\n",
    "    return len(list(factors(n))) == 2\n"
   ]
  },
  {
   "attachments": {},
   "cell_type": "markdown",
   "metadata": {},
   "source": [
    "### GCD"
   ]
  },
  {
   "attachments": {},
   "cell_type": "markdown",
   "metadata": {},
   "source": [
    "Brute force"
   ]
  },
  {
   "cell_type": "code",
   "execution_count": 85,
   "metadata": {},
   "outputs": [
    {
     "name": "stdout",
     "output_type": "stream",
     "text": [
      "4\n"
     ]
    }
   ],
   "source": [
    "def gcd(m,n):\n",
    "    for i in range(1,min(m,n)+1):\n",
    "        if m%i == 0 and n%i == 0:\n",
    "            yield i\n",
    "\n",
    "print(list(gcd(8,12))[-1])"
   ]
  },
  {
   "cell_type": "code",
   "execution_count": 29,
   "metadata": {},
   "outputs": [
    {
     "name": "stdout",
     "output_type": "stream",
     "text": [
      "4\n"
     ]
    }
   ],
   "source": [
    "def gcd(m,n):\n",
    "    for i in range(1,min(m,n)+1):\n",
    "        if m%i == 0 and n%i == 0:\n",
    "            most_recent_common_factor = i\n",
    "    return (most_recent_common_factor)\n",
    "\n",
    "print(gcd(8,12))\n"
   ]
  },
  {
   "attachments": {},
   "cell_type": "markdown",
   "metadata": {},
   "source": [
    "Another stratergy "
   ]
  },
  {
   "cell_type": "code",
   "execution_count": null,
   "metadata": {},
   "outputs": [],
   "source": [
    "\n",
    "def gcd(m,n):\n",
    "    global steps\n",
    "    (a,b) = (max(m,n),min(m,n))\n",
    "    print(steps)\n",
    "\n",
    "    if a%b == 0:\n",
    "        return b\n",
    "    else:\n",
    "        steps += 1\n",
    "        return gcd(b,a-b)\n",
    "    \n",
    "\n",
    "print(gcd(99,2))"
   ]
  },
  {
   "attachments": {},
   "cell_type": "markdown",
   "metadata": {},
   "source": [
    "Euclid algorithm"
   ]
  },
  {
   "cell_type": "code",
   "execution_count": 132,
   "metadata": {},
   "outputs": [],
   "source": [
    "def gcd(m,n):\n",
    "    (a,b) = (max(m,n),min(m,n))\n",
    "\n",
    "    if a%b == 0:\n",
    "        return b\n",
    "    else:\n",
    "        return gcd(b,a%b)\n",
    "\n",
    "#non trivial algorithm -> An algorithm that improves the performance of an obvious algorithm "
   ]
  },
  {
   "cell_type": "code",
   "execution_count": 133,
   "metadata": {},
   "outputs": [
    {
     "name": "stdout",
     "output_type": "stream",
     "text": [
      "9\n"
     ]
    }
   ],
   "source": [
    "print(gcd(9999999999,9))"
   ]
  },
  {
   "attachments": {},
   "cell_type": "markdown",
   "metadata": {},
   "source": [
    "### prime numbers"
   ]
  },
  {
   "cell_type": "code",
   "execution_count": 27,
   "metadata": {},
   "outputs": [],
   "source": [
    "from math import sqrt\n",
    "def prime(n):\n",
    "    (result,i) = (True,2)\n",
    "    while(result and (i<=sqrt(n))):\n",
    "        if n%i == 0:\n",
    "            result = False\n",
    "        i+=1\n",
    "    return result\n",
    "    "
   ]
  },
  {
   "cell_type": "code",
   "execution_count": 71,
   "metadata": {},
   "outputs": [
    {
     "data": {
      "text/plain": [
       "False"
      ]
     },
     "execution_count": 71,
     "metadata": {},
     "output_type": "execute_result"
    }
   ],
   "source": [
    "prime(49)"
   ]
  },
  {
   "cell_type": "code",
   "execution_count": null,
   "metadata": {},
   "outputs": [],
   "source": [
    "\n",
    "def difference_distribution(n):\n",
    "    list_of_prime = []\n",
    "    difference_distribution_list = []\n",
    "    for i in range(2,n+1):\n",
    "        if prime(i):\n",
    "            list_of_prime.append(i)\n",
    "    for j in range(0,len(list_of_prime)-1):\n",
    "        difference_distribution_list.append(list_of_prime[j+1] - list_of_prime[j])\n",
    "    return (difference_distribution_list)\n",
    "    \n",
    "\n",
    "difference_distribution(10000)"
   ]
  },
  {
   "cell_type": "code",
   "execution_count": 82,
   "metadata": {},
   "outputs": [
    {
     "name": "stdout",
     "output_type": "stream",
     "text": [
      "{1: 1, 2: 35, 4: 40, 6: 44, 8: 15, 14: 7, 10: 16, 12: 7, 18: 1, 20: 1}\n"
     ]
    }
   ],
   "source": [
    "freq = {}\n",
    "\n",
    "for i in difference_distribution(1000):\n",
    "    if i in freq.keys():\n",
    "        freq[i] = freq[i]+1\n",
    "    else:\n",
    "        freq[i] = 1\n",
    "\n",
    "print(freq)"
   ]
  },
  {
   "attachments": {},
   "cell_type": "markdown",
   "metadata": {},
   "source": [
    "### Exeption Handling"
   ]
  },
  {
   "attachments": {},
   "cell_type": "markdown",
   "metadata": {},
   "source": [
    "- goal is to recover gracefully \n",
    "- provide a contegency plan \n",
    "- handle exeptional cases"
   ]
  },
  {
   "cell_type": "code",
   "execution_count": 134,
   "metadata": {},
   "outputs": [
    {
     "name": "stdout",
     "output_type": "stream",
     "text": [
      "There are no 23 elements in the list\n"
     ]
    }
   ],
   "source": [
    "def execpt_handle_array(n):\n",
    "    try:\n",
    "        print(n[23])\n",
    "    except IndexError:\n",
    "        print(\"There are no 23 elements in the list\")\n",
    "\n",
    "execpt_handle_array([2,3,4,5])"
   ]
  },
  {
   "attachments": {},
   "cell_type": "markdown",
   "metadata": {},
   "source": [
    "Using execption positively"
   ]
  },
  {
   "cell_type": "code",
   "execution_count": 136,
   "metadata": {},
   "outputs": [
    {
     "name": "stdout",
     "output_type": "stream",
     "text": [
      "{1: 1, 2: 6, 3: 10, 4: 10, 5: 7, 6: 5, 7: 2, 24: 1, 66: 1, 56: 2, 34: 1, 67: 1}\n"
     ]
    }
   ],
   "source": [
    "count = {}\n",
    "k = [1,2,3,4,5,6,7,4,24,5,66,4,4,3,4,56,3,2,2,3,3,4,5,56,4,3,3,2,2,3,4,5,6,6,6,5,4,3,3,2,34,4,5,5,6,67,7]\n",
    "\n",
    "for i in k:\n",
    "    try:\n",
    "        count[i] += 1\n",
    "    except KeyError:\n",
    "        count[i] = 1\n",
    "\n",
    "print(count)\n"
   ]
  },
  {
   "attachments": {},
   "cell_type": "markdown",
   "metadata": {},
   "source": [
    "Sequence of handling error"
   ]
  },
  {
   "cell_type": "code",
   "execution_count": 139,
   "metadata": {},
   "outputs": [
    {
     "ename": "ValueError",
     "evalue": "invalid literal for int() with base 10: '20.345'",
     "output_type": "error",
     "traceback": [
      "\u001b[1;31m---------------------------------------------------------------------------\u001b[0m",
      "\u001b[1;31mValueError\u001b[0m                                Traceback (most recent call last)",
      "Cell \u001b[1;32mIn[139], line 16\u001b[0m\n\u001b[0;32m     10\u001b[0m \u001b[39mdef\u001b[39;00m \u001b[39mm\u001b[39m(x):\n\u001b[0;32m     11\u001b[0m     \u001b[39mprint\u001b[39m(\u001b[39mint\u001b[39m(x))\n\u001b[1;32m---> 16\u001b[0m f(\u001b[39m\"\u001b[39;49m\u001b[39m20.345\u001b[39;49m\u001b[39m\"\u001b[39;49m)\n",
      "Cell \u001b[1;32mIn[139], line 2\u001b[0m, in \u001b[0;36mf\u001b[1;34m(x)\u001b[0m\n\u001b[0;32m      1\u001b[0m \u001b[39mdef\u001b[39;00m \u001b[39mf\u001b[39m(x):\n\u001b[1;32m----> 2\u001b[0m     a(x)\n",
      "Cell \u001b[1;32mIn[139], line 5\u001b[0m, in \u001b[0;36ma\u001b[1;34m(x)\u001b[0m\n\u001b[0;32m      4\u001b[0m \u001b[39mdef\u001b[39;00m \u001b[39ma\u001b[39m(x):\n\u001b[1;32m----> 5\u001b[0m     k(x)\n",
      "Cell \u001b[1;32mIn[139], line 8\u001b[0m, in \u001b[0;36mk\u001b[1;34m(x)\u001b[0m\n\u001b[0;32m      7\u001b[0m \u001b[39mdef\u001b[39;00m \u001b[39mk\u001b[39m(x):\n\u001b[1;32m----> 8\u001b[0m     m(x)\n",
      "Cell \u001b[1;32mIn[139], line 11\u001b[0m, in \u001b[0;36mm\u001b[1;34m(x)\u001b[0m\n\u001b[0;32m     10\u001b[0m \u001b[39mdef\u001b[39;00m \u001b[39mm\u001b[39m(x):\n\u001b[1;32m---> 11\u001b[0m     \u001b[39mprint\u001b[39m(\u001b[39mint\u001b[39;49m(x))\n",
      "\u001b[1;31mValueError\u001b[0m: invalid literal for int() with base 10: '20.345'"
     ]
    }
   ],
   "source": [
    "\n",
    "\n",
    "def f(x):\n",
    "    a(x) #error inherited from m(x) -> k(x) -> a(x)\n",
    "\n",
    "def a(x):\n",
    "    k(x) #error inherited from m(x) -> k(x)\n",
    "\n",
    "def k(x):\n",
    "    m(x) #error inherited from m(x)\n",
    "\n",
    "def m(x):\n",
    "    print(int(x)) #error raised\n",
    "\n",
    "\n",
    "f(\"20.345\")\n",
    "    "
   ]
  },
  {
   "attachments": {},
   "cell_type": "markdown",
   "metadata": {},
   "source": [
    "### Classes and objects "
   ]
  },
  {
   "attachments": {},
   "cell_type": "markdown",
   "metadata": {},
   "source": [
    " point "
   ]
  },
  {
   "cell_type": "code",
   "execution_count": 1,
   "metadata": {},
   "outputs": [],
   "source": [
    "class Point:\n",
    "    def __init__(self,a=0,b=0):\n",
    "        self.x = a\n",
    "        self.y = b\n",
    "    \n",
    "    def translate(self,dx,dy):\n",
    "        self.x += dx\n",
    "        self.y += dy\n",
    "\n",
    "    def distance(self):\n",
    "        import math\n",
    "        return math.sqrt(self.x**2 + self.y**2)\n",
    "\n"
   ]
  },
  {
   "cell_type": "code",
   "execution_count": 8,
   "metadata": {},
   "outputs": [
    {
     "name": "stdout",
     "output_type": "stream",
     "text": [
      "<__main__.Point object at 0x0000017C6E84B730>\n"
     ]
    },
    {
     "data": {
      "text/plain": [
       "(5.0, 7.810249675906654)"
      ]
     },
     "execution_count": 8,
     "metadata": {},
     "output_type": "execute_result"
    }
   ],
   "source": [
    "p = Point(3,4)\n",
    "print(p)\n",
    "q = Point(5,6)\n",
    "\n",
    "p.distance(),q.distance()"
   ]
  },
  {
   "attachments": {},
   "cell_type": "markdown",
   "metadata": {},
   "source": [
    "defenition 2"
   ]
  },
  {
   "cell_type": "code",
   "execution_count": 9,
   "metadata": {},
   "outputs": [],
   "source": [
    "class Point:\n",
    "\n",
    "    def __init__(self,a=0,b=0):\n",
    "        import math\n",
    "        self.r = math.sqrt(a**2 + b**2)\n",
    "        if a==0:\n",
    "            self.theta = 0\n",
    "        else:\n",
    "            self.theta = math.atan(b/a)\n",
    "    \n",
    "    def translate(self,dx,dy):\n",
    "        import math\n",
    "        x = self.r*math.cos(self.theta)\n",
    "        y = self.r*math.sin(self.theta)\n",
    "\n",
    "        x+=dx\n",
    "        y+=dy\n",
    "\n",
    "        self.r = math.sqrt(x**2+y**2)\n",
    "        if x == 0:\n",
    "            self.theta = 0\n",
    "        else:\n",
    "            self.theta = math.atan(y/x)"
   ]
  },
  {
   "cell_type": "code",
   "execution_count": 18,
   "metadata": {},
   "outputs": [
    {
     "data": {
      "text/plain": [
       "10.816653826391969"
      ]
     },
     "execution_count": 18,
     "metadata": {},
     "output_type": "execute_result"
    }
   ],
   "source": [
    "p = Point(3,4)\n",
    "\n",
    "p.translate(6,2)\n",
    "\n",
    "p.r"
   ]
  },
  {
   "attachments": {},
   "cell_type": "markdown",
   "metadata": {},
   "source": [
    "### Timing the code"
   ]
  },
  {
   "cell_type": "code",
   "execution_count": 4,
   "metadata": {},
   "outputs": [],
   "source": [
    "import time\n",
    "class Timer:\n",
    "    def __init__(self):\n",
    "        self.start_time = 0\n",
    "        self.elpased = 0\n",
    "    def start(self):\n",
    "        self.start_time = time.perf_counter()\n",
    "     \n",
    "    def stop(self):\n",
    "        self.elpased = time.perf_counter() - self.start_time\n",
    "\n",
    "    def elapsed_time(self):\n",
    "        return self.elpased\n"
   ]
  },
  {
   "cell_type": "code",
   "execution_count": 5,
   "metadata": {},
   "outputs": [],
   "source": [
    "#decoorator \n",
    "\n",
    "def time_this(func):\n",
    "\n",
    "    def wrapper(*args,**kwargs):\n",
    "        start = time.perf_counter()\n",
    "        func(*args,**kwargs)\n",
    "        end = time.perf_counter()\n",
    "        print(\"Time taken to execute the function is {}\".format(end-start))\n",
    "        \n",
    "    return wrapper"
   ]
  },
  {
   "cell_type": "code",
   "execution_count": null,
   "metadata": {},
   "outputs": [],
   "source": [
    "@time_this\n",
    "def difference_distribution(n):\n",
    "    list_of_prime = []\n",
    "    difference_distribution_list = []\n",
    "    for i in range(2,n+1):\n",
    "        if prime(i):\n",
    "            list_of_prime.append(i)\n",
    "    for j in range(0,len(list_of_prime)-1):\n",
    "        difference_distribution_list.append(list_of_prime[j+1] - list_of_prime[j])\n",
    "    return (difference_distribution_list)\n",
    "    \n",
    "\n",
    "difference_distribution(1000000)"
   ]
  },
  {
   "attachments": {},
   "cell_type": "markdown",
   "metadata": {},
   "source": [
    "### Implementation of codes part 3\n"
   ]
  },
  {
   "attachments": {},
   "cell_type": "markdown",
   "metadata": {},
   "source": [
    "Creating a timer class"
   ]
  },
  {
   "cell_type": "code",
   "execution_count": 13,
   "metadata": {},
   "outputs": [],
   "source": [
    "#new timer class\n",
    "\n",
    "import time\n",
    "from time import perf_counter\n",
    "\n",
    "class TimerError(Exception):\n",
    "    \"\"\"its my custom timer error\"\"\"\n",
    "\n",
    "\n",
    "class Timer:\n",
    "    def __init__(self):\n",
    "        self.start_time = None\n",
    "        self.stop_time = None\n",
    "\n",
    "    def start(self) -> None:\n",
    "        \"\"\"starts the timer\"\"\"\n",
    "\n",
    "        if self.start_time is not None:\n",
    "            raise TimerError(\"Timer is running use stop\")\n",
    "        self.start_time = time.perf_counter()\n",
    "    \n",
    "    def stop(self) -> None:\n",
    "        \"\"\"stops the timer\"\"\"\n",
    "\n",
    "        if self.start_time is None:\n",
    "            raise TimerError(\"timer is not running please run it\")\n",
    "        self.stop_time = abs(self.start_time - time.perf_counter())\n",
    "        self.start_time = None\n",
    "    \n",
    "    def elapsed(self) -> None:\n",
    "        \n",
    "        if self.stop_time is None:\n",
    "            raise TimerError(\"please run the timer first\")\n",
    "        return(self.stop_time)\n",
    "    \n",
    "    def __str__(self):\n",
    "        \"\"\"print() prints the elapsed time\"\"\"\n",
    "        return(str(self.stop_time))\n"
   ]
  },
  {
   "attachments": {},
   "cell_type": "markdown",
   "metadata": {},
   "source": [
    "Using the timer class"
   ]
  },
  {
   "cell_type": "code",
   "execution_count": 15,
   "metadata": {},
   "outputs": [
    {
     "name": "stdout",
     "output_type": "stream",
     "text": [
      "4 0.001320100000043567\n",
      "5 0.010749399999895104\n",
      "6 0.08237599999995382\n",
      "7 0.6764505999999528\n",
      "8 6.423345799999993\n"
     ]
    }
   ],
   "source": [
    "t = Timer()\n",
    "for j in range(4,9):\n",
    "    t.start()\n",
    "    n = 0\n",
    "    for i in range(10**j):\n",
    "        n+=i\n",
    "    t.stop()\n",
    "    print(j,t)\n"
   ]
  },
  {
   "cell_type": "code",
   "execution_count": 16,
   "metadata": {},
   "outputs": [],
   "source": [
    "t.start()"
   ]
  },
  {
   "cell_type": "code",
   "execution_count": 17,
   "metadata": {},
   "outputs": [
    {
     "ename": "TimerError",
     "evalue": "Timer is running use stop",
     "output_type": "error",
     "traceback": [
      "\u001b[1;31m---------------------------------------------------------------------------\u001b[0m",
      "\u001b[1;31mTimerError\u001b[0m                                Traceback (most recent call last)",
      "Cell \u001b[1;32mIn[17], line 1\u001b[0m\n\u001b[1;32m----> 1\u001b[0m t\u001b[39m.\u001b[39;49mstart()\n",
      "Cell \u001b[1;32mIn[13], line 19\u001b[0m, in \u001b[0;36mTimer.start\u001b[1;34m(self)\u001b[0m\n\u001b[0;32m     16\u001b[0m \u001b[39m\"\"\"starts the timer\"\"\"\u001b[39;00m\n\u001b[0;32m     18\u001b[0m \u001b[39mif\u001b[39;00m \u001b[39mself\u001b[39m\u001b[39m.\u001b[39mstart_time \u001b[39mis\u001b[39;00m \u001b[39mnot\u001b[39;00m \u001b[39mNone\u001b[39;00m:\n\u001b[1;32m---> 19\u001b[0m     \u001b[39mraise\u001b[39;00m TimerError(\u001b[39m\"\u001b[39m\u001b[39mTimer is running use stop\u001b[39m\u001b[39m\"\u001b[39m)\n\u001b[0;32m     20\u001b[0m \u001b[39mself\u001b[39m\u001b[39m.\u001b[39mstart_time \u001b[39m=\u001b[39m time\u001b[39m.\u001b[39mperf_counter()\n",
      "\u001b[1;31mTimerError\u001b[0m: Timer is running use stop"
     ]
    }
   ],
   "source": [
    "t.start()"
   ]
  },
  {
   "cell_type": "code",
   "execution_count": 18,
   "metadata": {},
   "outputs": [],
   "source": [
    "t.stop()"
   ]
  },
  {
   "cell_type": "code",
   "execution_count": 19,
   "metadata": {},
   "outputs": [
    {
     "ename": "TimerError",
     "evalue": "timer is not running please run it",
     "output_type": "error",
     "traceback": [
      "\u001b[1;31m---------------------------------------------------------------------------\u001b[0m",
      "\u001b[1;31mTimerError\u001b[0m                                Traceback (most recent call last)",
      "Cell \u001b[1;32mIn[19], line 1\u001b[0m\n\u001b[1;32m----> 1\u001b[0m t\u001b[39m.\u001b[39;49mstop()\n",
      "Cell \u001b[1;32mIn[13], line 26\u001b[0m, in \u001b[0;36mTimer.stop\u001b[1;34m(self)\u001b[0m\n\u001b[0;32m     23\u001b[0m \u001b[39m\"\"\"stops the timer\"\"\"\u001b[39;00m\n\u001b[0;32m     25\u001b[0m \u001b[39mif\u001b[39;00m \u001b[39mself\u001b[39m\u001b[39m.\u001b[39mstart_time \u001b[39mis\u001b[39;00m \u001b[39mNone\u001b[39;00m:\n\u001b[1;32m---> 26\u001b[0m     \u001b[39mraise\u001b[39;00m TimerError(\u001b[39m\"\u001b[39m\u001b[39mtimer is not running please run it\u001b[39m\u001b[39m\"\u001b[39m)\n\u001b[0;32m     27\u001b[0m \u001b[39mself\u001b[39m\u001b[39m.\u001b[39mstop_time \u001b[39m=\u001b[39m \u001b[39mabs\u001b[39m(\u001b[39mself\u001b[39m\u001b[39m.\u001b[39mstart_time \u001b[39m-\u001b[39m time\u001b[39m.\u001b[39mperf_counter())\n\u001b[0;32m     28\u001b[0m \u001b[39mself\u001b[39m\u001b[39m.\u001b[39mstart_time \u001b[39m=\u001b[39m \u001b[39mNone\u001b[39;00m\n",
      "\u001b[1;31mTimerError\u001b[0m: timer is not running please run it"
     ]
    }
   ],
   "source": [
    "t.stop()"
   ]
  },
  {
   "cell_type": "code",
   "execution_count": 20,
   "metadata": {},
   "outputs": [
    {
     "data": {
      "text/plain": [
       "14.371612999999911"
      ]
     },
     "execution_count": 20,
     "metadata": {},
     "output_type": "execute_result"
    }
   ],
   "source": [
    "t.elapsed()"
   ]
  },
  {
   "cell_type": "code",
   "execution_count": 25,
   "metadata": {},
   "outputs": [],
   "source": [
    "t.start()"
   ]
  },
  {
   "cell_type": "code",
   "execution_count": 22,
   "metadata": {},
   "outputs": [
    {
     "data": {
      "text/plain": [
       "14.371612999999911"
      ]
     },
     "execution_count": 22,
     "metadata": {},
     "output_type": "execute_result"
    }
   ],
   "source": [
    "t.elapsed()"
   ]
  },
  {
   "cell_type": "code",
   "execution_count": 26,
   "metadata": {},
   "outputs": [],
   "source": [
    "t.stop()"
   ]
  },
  {
   "cell_type": "code",
   "execution_count": 27,
   "metadata": {},
   "outputs": [
    {
     "data": {
      "text/plain": [
       "42.12002819999998"
      ]
     },
     "execution_count": 27,
     "metadata": {},
     "output_type": "execute_result"
    }
   ],
   "source": [
    "t.elapsed()"
   ]
  },
  {
   "cell_type": "code",
   "execution_count": 30,
   "metadata": {},
   "outputs": [
    {
     "name": "stdout",
     "output_type": "stream",
     "text": [
      "42.12002819999998\n"
     ]
    }
   ],
   "source": [
    "print(t.stop_time)"
   ]
  },
  {
   "cell_type": "code",
   "execution_count": 31,
   "metadata": {},
   "outputs": [
    {
     "ename": "TimerError",
     "evalue": "please run the timer first",
     "output_type": "error",
     "traceback": [
      "\u001b[1;31m---------------------------------------------------------------------------\u001b[0m",
      "\u001b[1;31mTimerError\u001b[0m                                Traceback (most recent call last)",
      "Cell \u001b[1;32mIn[31], line 2\u001b[0m\n\u001b[0;32m      1\u001b[0m j \u001b[39m=\u001b[39m Timer()\n\u001b[1;32m----> 2\u001b[0m j\u001b[39m.\u001b[39;49melapsed()\n",
      "Cell \u001b[1;32mIn[13], line 33\u001b[0m, in \u001b[0;36mTimer.elapsed\u001b[1;34m(self)\u001b[0m\n\u001b[0;32m     30\u001b[0m \u001b[39mdef\u001b[39;00m \u001b[39melapsed\u001b[39m(\u001b[39mself\u001b[39m):\n\u001b[0;32m     32\u001b[0m     \u001b[39mif\u001b[39;00m \u001b[39mself\u001b[39m\u001b[39m.\u001b[39mstop_time \u001b[39mis\u001b[39;00m \u001b[39mNone\u001b[39;00m:\n\u001b[1;32m---> 33\u001b[0m         \u001b[39mraise\u001b[39;00m TimerError(\u001b[39m\"\u001b[39m\u001b[39mplease run the timer first\u001b[39m\u001b[39m\"\u001b[39m)\n\u001b[0;32m     34\u001b[0m     \u001b[39mreturn\u001b[39;00m(\u001b[39mself\u001b[39m\u001b[39m.\u001b[39mstop_time)\n",
      "\u001b[1;31mTimerError\u001b[0m: please run the timer first"
     ]
    }
   ],
   "source": [
    "j = Timer()\n",
    "j.elapsed()"
   ]
  },
  {
   "attachments": {},
   "cell_type": "markdown",
   "metadata": {},
   "source": [
    "  "
   ]
  }
 ],
 "metadata": {
  "kernelspec": {
   "display_name": "base",
   "language": "python",
   "name": "python3"
  },
  "language_info": {
   "codemirror_mode": {
    "name": "ipython",
    "version": 3
   },
   "file_extension": ".py",
   "mimetype": "text/x-python",
   "name": "python",
   "nbconvert_exporter": "python",
   "pygments_lexer": "ipython3",
   "version": "3.9.13"
  },
  "orig_nbformat": 4
 },
 "nbformat": 4,
 "nbformat_minor": 2
}
