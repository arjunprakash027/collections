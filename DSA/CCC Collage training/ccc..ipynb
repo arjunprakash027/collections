{
 "cells": [
  {
   "cell_type": "code",
   "execution_count": 20,
   "metadata": {},
   "outputs": [
    {
     "name": "stdout",
     "output_type": "stream",
     "text": [
      "8\n"
     ]
    }
   ],
   "source": [
    "#play with code 1\n",
    "\n",
    "def product(*args):\n",
    "    product = 1\n",
    "    num_list = []\n",
    "    for i in args:\n",
    "        num_list.append(i)\n",
    "    \n",
    "    if 7 in num_list:\n",
    "        new_list = num_list[num_list.index(7):][1:]\n",
    "        for i in new_list:\n",
    "            product *= i\n",
    "    else:\n",
    "        for i in num_list:\n",
    "            product *= i\n",
    "    \n",
    "    return product\n",
    "        \n",
    "\n",
    "product_val = product(3,7,8)\n",
    "print(product_val)"
   ]
  },
  {
   "cell_type": "code",
   "execution_count": 21,
   "metadata": {},
   "outputs": [
    {
     "name": "stdout",
     "output_type": "stream",
     "text": [
      "255\n"
     ]
    }
   ],
   "source": [
    "def calculate_bill(food_type,quantity,distance):\n",
    "    food = {\"Veg\":120,\"Non-Veg\":150}\n",
    "    bill_amount = 0\n",
    "    if food_type in food and quantity>1 and distance>0:\n",
    "        if distance > 6:\n",
    "            charges = ((distance-6)*6)+9\n",
    "        elif distance <= 3:\n",
    "            charges = 0\n",
    "        else:\n",
    "            charges = (distance-3)*3\n",
    "        bill_amount = (food[food_type]*quantity)+charges\n",
    "    else:\n",
    "        bill_amount = -1\n",
    "\n",
    "    return bill_amount\n",
    "\n",
    "veg_meal1 = calculate_bill(\"Veg\",2,7)\n",
    "print(veg_meal1)\n",
    "        "
   ]
  },
  {
   "cell_type": "code",
   "execution_count": 26,
   "metadata": {},
   "outputs": [
    {
     "name": "stdout",
     "output_type": "stream",
     "text": [
      "cannot add 10 to the list\n",
      "cannot add 11 to the list\n",
      "cannot add 12 to the list\n",
      "cannot add 13 to the list\n",
      "cannot add 14 to the list\n",
      "added number 15 to the list\n",
      "15\n"
     ]
    }
   ],
   "source": [
    "def maxnum(num1,num2):\n",
    "    max_num = -1\n",
    "    list_of_numbers = []\n",
    "    if num1<num2:\n",
    "        for i in range(num1,num2+1):\n",
    "            if len(str(i)) == 2 and i%15==0:\n",
    "                list_of_numbers.append(i)\n",
    "                print(\"added number {} to the list\".format(i))\n",
    "            else:\n",
    "                print(\"cannot add {} to the list\".format(i))\n",
    "    else:\n",
    "        print(\"num1 should be less than num2\")\n",
    "    \n",
    "    if len(list_of_numbers) > 0:\n",
    "        max_num = max(list_of_numbers)\n",
    "    \n",
    "    return max_num\n",
    "\n",
    "max_num = maxnum(10,15)\n",
    "print(max_num)\n"
   ]
  },
  {
   "cell_type": "code",
   "execution_count": 36,
   "metadata": {},
   "outputs": [
    {
     "name": "stdout",
     "output_type": "stream",
     "text": [
      "1A4B8C1A2C\n"
     ]
    }
   ],
   "source": [
    "#runlength encoding \n",
    "def encode(message):\n",
    "    result = \"\"\n",
    "    count = 0\n",
    "    char = message[0]\n",
    "\n",
    "    for i in range(len(message)):\n",
    "        if message[i] == char:\n",
    "            count += 1\n",
    "        else:\n",
    "            char = message[i]\n",
    "            result += str(count)+message[i-1]\n",
    "            count = 1\n",
    "    \n",
    "    result += str(count)+message[-1]\n",
    "    return result\n",
    "\n",
    "string = encode(\"ABBBBCCCCCCCCACC\")\n",
    "print(string)\n"
   ]
  },
  {
   "cell_type": "code",
   "execution_count": 43,
   "metadata": {},
   "outputs": [
    {
     "name": "stdout",
     "output_type": "stream",
     "text": [
      "[0, 1, 3, 4, 5, 6, 8, 9]\n",
      "4\n"
     ]
    }
   ],
   "source": [
    "#pairs\n",
    "\n",
    "def pairs(num_list,target):\n",
    "    num_set = list(set(num_list))\n",
    "    count = 0\n",
    "    for i in range(len(num_set)):\n",
    "        for j in range(i+1,len(num_set)):\n",
    "            if num_set[i]+num_set[j] == target:\n",
    "                count+=1\n",
    "    print(num_set)\n",
    "    print(count)\n",
    "\n",
    "pairs([3,4,1,8,5,9,0,6],9)"
   ]
  },
  {
   "cell_type": "code",
   "execution_count": 44,
   "metadata": {},
   "outputs": [
    {
     "data": {
      "text/plain": [
       "563421"
      ]
     },
     "execution_count": 44,
     "metadata": {},
     "output_type": "execute_result"
    }
   ],
   "source": [
    "#biggest possible number formed fromt the list\n",
    "\n",
    "def biggest_number(num_list):\n",
    "    a = 0\n",
    "    while len(num_list) != 0:\n",
    "        a = a*100 + max(num_list)\n",
    "        num_list.remove(max(num_list))\n",
    "    return a\n",
    "\n",
    "biggest_number([21,34,56])"
   ]
  },
  {
   "cell_type": "code",
   "execution_count": 48,
   "metadata": {},
   "outputs": [
    {
     "data": {
      "text/plain": [
       "True"
      ]
     },
     "execution_count": 48,
     "metadata": {},
     "output_type": "execute_result"
    }
   ],
   "source": [
    "#special number \n",
    "\n",
    "def special(number):\n",
    "    double = number * 2\n",
    "    count = 0\n",
    "    if len(str(number)) == len(str(double)):\n",
    "        for i in str(number):\n",
    "            if i in str(double):\n",
    "                count += 1\n",
    "        if count == len(str(number)):\n",
    "            return True\n",
    "        \n",
    "    return False\n",
    "\n",
    "special(125874)"
   ]
  },
  {
   "cell_type": "code",
   "execution_count": 66,
   "metadata": {},
   "outputs": [
    {
     "name": "stdout",
     "output_type": "stream",
     "text": [
      "66\n"
     ]
    }
   ],
   "source": [
    "def largest_prime_factor(n):\n",
    "    prime_factor = n\n",
    "    for i in range(2,(n//2)+1):\n",
    "        if largest_prime_factor(i) == i:\n",
    "            if n%i == 0:\n",
    "                prime_factor = i\n",
    "    return(prime_factor)\n",
    "\n",
    "\n",
    "def sum_function(n):\n",
    "    sum = 0\n",
    "    for i in range(n,n+9):\n",
    "        sum += largest_prime_factor(i)\n",
    "        #print(largest_prime_factor(i))\n",
    "    print(sum)\n",
    "\n",
    "sum_function(10)\n"
   ]
  },
  {
   "cell_type": "code",
   "execution_count": 67,
   "metadata": {},
   "outputs": [
    {
     "name": "stdout",
     "output_type": "stream",
     "text": [
      "hi\n",
      "*hi*\n",
      "**hi**\n",
      "***hi***\n",
      "****hi****\n",
      "*****hi*****\n",
      "******hi******\n",
      "*******hi*******\n",
      "********hi********\n",
      "         * \n",
      "        * * \n",
      "       * * * \n",
      "      * * * * \n",
      "     * * * * * \n",
      "    * * * * * * \n",
      "   * * * * * * * \n",
      "  * * * * * * * * \n",
      " * * * * * * * * * \n",
      "* * * * * * * * * * \n"
     ]
    }
   ],
   "source": [
    "#string methods\n",
    "\n",
    "a = \"hi\"\n",
    "for i in range(2,20,2):\n",
    "    print(a.center(i,\"*\"))\n",
    "\n",
    "n = 10\n",
    "for i in range(n):\n",
    "    for j in range(n-i-1):\n",
    "        print(end=\" \")\n",
    "    for j in range(i+1):\n",
    "        print(\"*\",end=\" \")\n",
    "    print()\n",
    "        \n"
   ]
  },
  {
   "cell_type": "code",
   "execution_count": 83,
   "metadata": {},
   "outputs": [
    {
     "name": "stdout",
     "output_type": "stream",
     "text": [
      "         hi \n",
      "\n",
      "       * hi * \n",
      "\n",
      "     * * hi * * \n",
      "\n",
      "   * * * hi * * * \n",
      "\n",
      " * * * * hi * * * * \n",
      "\n",
      "mid point: 2\n"
     ]
    }
   ],
   "source": [
    "n = 10\n",
    "for i in range(0,n):\n",
    "    if i%2 == 1:\n",
    "        print()\n",
    "    else:\n",
    "        for j in range(n-i-1):\n",
    "            print(end=\" \")\n",
    "        for j in range(i+1):\n",
    "            if j == (i+1)//2:\n",
    "                print(\"hi\",end=\" \")\n",
    "            else:\n",
    "                print(\"*\",end=\" \")\n",
    "        print()\n",
    "\n",
    "print(\"mid point:\",(4+1)//2)"
   ]
  },
  {
   "cell_type": "code",
   "execution_count": 108,
   "metadata": {},
   "outputs": [
    {
     "name": "stdout",
     "output_type": "stream",
     "text": [
      "        hi \n",
      "\n",
      "      * hi * \n",
      "\n",
      "    * * hi * * \n",
      "\n",
      "  * * * hi * * * \n",
      "\n",
      "* * * * hi * * * * \n",
      "\n"
     ]
    }
   ],
   "source": [
    "n = int(input())\n",
    "k = n-1\n",
    "for i in range(n):\n",
    "    for j in range(0,k):\n",
    "        print(' ', end = ' ')\n",
    "    for j in range(0,i):\n",
    "        print('*', end = ' ')\n",
    "    print('hi', end = ' ')\n",
    "    for j in range(0,i):\n",
    "        print('*', end = ' ')\n",
    "    k -= 1\n",
    "    print('\\n')"
   ]
  },
  {
   "cell_type": "code",
   "execution_count": 33,
   "metadata": {},
   "outputs": [
    {
     "name": "stdout",
     "output_type": "stream",
     "text": [
      "********hi**********\n",
      "*******hi*********\n"
     ]
    }
   ],
   "source": [
    "#justification in string\n",
    "\n",
    "a = \"hi\"\n",
    "k = a.rjust(10,\"*\")\n",
    "print(k.ljust(20,\"*\"))\n",
    "k = a.rjust(9,\"*\")\n",
    "print(k.ljust(18,\"*\"))"
   ]
  },
  {
   "cell_type": "code",
   "execution_count": 87,
   "metadata": {},
   "outputs": [
    {
     "name": "stdout",
     "output_type": "stream",
     "text": [
      "{97: 49, 101: 50, 105: 51, 111: 52, 117: 53}\n",
      "th3s 3s v2ry g44d s2nt2nc2 3 1m g43ng t4 cr21t2 th3s s2nt2nc2 1nd th2n 3 1m g43ng t4 d4 s4m2th3gn\n"
     ]
    }
   ],
   "source": [
    "#translation\n",
    "\n",
    "a = \"this is very good sentence i am going to create this sentence and then i am going to do somethign\"\n",
    "\n",
    "b = a.maketrans(\"aeiou\",\"12345\")\n",
    "\n",
    "print(b)\n",
    "print(a.translate(b))"
   ]
  },
  {
   "cell_type": "code",
   "execution_count": 92,
   "metadata": {},
   "outputs": [
    {
     "name": "stdout",
     "output_type": "stream",
     "text": [
      "['C:\\\\Users\\\\Admin\\\\AppData\\\\Roaming\\\\Python\\\\Python311\\\\site-packages\\\\ipykernel_launcher.py', '--ip=127.0.0.1', '--stdin=9003', '--control=9001', '--hb=9000', '--Session.signature_scheme=\"hmac-sha256\"', '--Session.key=b\"e084c31d-576c-47d4-ad17-49f33e5a6776\"', '--shell=9002', '--transport=\"tcp\"', '--iopub=9004', '--f=c:\\\\Users\\\\Admin\\\\AppData\\\\Roaming\\\\jupyter\\\\runtime\\\\kernel-v2-23468o0Gs5d9WUQfg.json']\n"
     ]
    }
   ],
   "source": [
    "import sys\n",
    "print(sys.argv)"
   ]
  },
  {
   "cell_type": "code",
   "execution_count": 98,
   "metadata": {},
   "outputs": [
    {
     "name": "stdout",
     "output_type": "stream",
     "text": [
      "0 1 2 3 4 5 6 7 8 9 10 11 12 13 14 15 16 17 18 19 \n",
      "0 1 2 3 4 5 6 7 8 9 10 11 12 13 14 15 16 17 18 19 20 21 22 23 24 25 26 27 28 29 \n",
      "[range(0, 20), range(0, 30)]\n",
      "[1, 2, 3, 0, 1, 2, 3, 4]\n"
     ]
    }
   ],
   "source": [
    "#list methods\n",
    "\n",
    "c = [range(20),range(30)]\n",
    "\n",
    "for x in c:\n",
    "    for i in x:\n",
    "        print(i,end=\" \")\n",
    "    print()\n",
    "print(c)\n",
    "\n",
    "d = [1,2,3]\n",
    "d.extend(range(5))\n",
    "print(d)"
   ]
  },
  {
   "cell_type": "code",
   "execution_count": 117,
   "metadata": {},
   "outputs": [
    {
     "name": "stdout",
     "output_type": "stream",
     "text": [
      "{9, 10, 3}\n",
      "set()\n",
      "None\n",
      "{3, 9, 10}\n",
      "\n",
      "{1, 2, 4, 5, 6, 7, 8}\n",
      "{1, 2, 3, 4, 5, 6, 7, 8, 9, 10}\n",
      "{1, 2, 4, 5, 6, 7, 8}\n",
      "False\n",
      "True\n"
     ]
    }
   ],
   "source": [
    "#set functions\n",
    "\n",
    "#set difference\n",
    "x = {1,2,4,5,6,7,8}\n",
    "y = {1,2,3,4,5,6,7,8,9,10}\n",
    "print(y.difference(x))\n",
    "print(x.difference(y))\n",
    "\n",
    "#difference update\n",
    "print(y.difference_update(x))\n",
    "print(y) #updates the set with difference values\n",
    "print()\n",
    "#intersection\n",
    "\n",
    "x = {1,2,4,5,6,7,8}\n",
    "y = {1,2,3,4,5,6,7,8,9,10}\n",
    "z = {1,2,3,4,5,6,7,8,9,10,11,12}\n",
    "\n",
    "print(x.intersection(y))\n",
    "print(z.intersection(y))\n",
    "print(set.intersection(x,y,z))\n",
    "\n",
    "#issubset function\n",
    "x = {1,2,3,4,5,6,7}\n",
    "y = {1,8,9,0}\n",
    "print(x.issubset(y))\n",
    "z = {1,2,6,7}\n",
    "print(z.issubset(x))\n"
   ]
  },
  {
   "cell_type": "code",
   "execution_count": 128,
   "metadata": {},
   "outputs": [
    {
     "name": "stdout",
     "output_type": "stream",
     "text": [
      "{'name': 'noval', 'age': 'noval', 'qualification': 'noval'}\n",
      "noval\n",
      "\n",
      "('name', 'noval')\n",
      "('age', 'noval')\n",
      "('qualification', 'noval')\n",
      "noval\n",
      "{'name': 'noval', 'age': 'noval', 'qualification': 'noval'}\n",
      "{'name': 'sai', 'age': 'noval', 'qualification': 'noval'}\n"
     ]
    }
   ],
   "source": [
    "#dict functions\n",
    "\n",
    "x = [\"name\",\"age\",\"qualification\"]\n",
    "d = dict.fromkeys(x,\"noval\")\n",
    "print(d)\n",
    "\n",
    "print(d.get(\"name\"))\n",
    "print()\n",
    "\n",
    "for x in d.items():\n",
    "    print(x)\n",
    "\n",
    "#setdefault\n",
    "print(d.setdefault(\"name\",\"val\"))\n",
    "print(d)\n",
    "\n",
    "#update\n",
    "d.update({\"name\":\"sai\"})\n",
    "print(d)"
   ]
  },
  {
   "cell_type": "code",
   "execution_count": 129,
   "metadata": {},
   "outputs": [
    {
     "name": "stdout",
     "output_type": "stream",
     "text": [
      "1\n",
      "2\n",
      "3\n",
      "4\n",
      "5\n",
      "6\n",
      "7\n",
      "8\n",
      "9\n",
      "10\n"
     ]
    }
   ],
   "source": [
    "#functions\n",
    "\n",
    "def func(*b):\n",
    "    for i in b:\n",
    "        print(i)\n",
    "\n",
    "func(1,2,3,4,5,6,7,8,9,10)"
   ]
  },
  {
   "cell_type": "code",
   "execution_count": 131,
   "metadata": {},
   "outputs": [
    {
     "name": "stdout",
     "output_type": "stream",
     "text": [
      "6\n",
      "(4, 9)\n"
     ]
    }
   ],
   "source": [
    "#ananomus functions\n",
    "sum = lambda a,b,c: a+b+c\n",
    "print(sum(1,2,3))\n",
    "\n",
    "squre = lambda a,b : (a*a,b*b)\n",
    "print(squre(2,3))"
   ]
  },
  {
   "cell_type": "code",
   "execution_count": 137,
   "metadata": {},
   "outputs": [
    {
     "name": "stdout",
     "output_type": "stream",
     "text": [
      "-20\n",
      "10\n"
     ]
    }
   ],
   "source": [
    "#functools\n",
    "\n",
    "import functools\n",
    "\n",
    "def func(a,b):\n",
    "    return a-b\n",
    "\n",
    "fun = functools.partial(func,10,30)\n",
    "print(fun())\n",
    "\n",
    "fun2 = functools.partial(func,30)\n",
    "print(fun2(20))"
   ]
  },
  {
   "cell_type": "code",
   "execution_count": 152,
   "metadata": {},
   "outputs": [
    {
     "name": "stdout",
     "output_type": "stream",
     "text": [
      "6\n"
     ]
    }
   ],
   "source": [
    "#functools reduce\n",
    "\n",
    "import functools\n",
    "\n",
    "def func(a,b):\n",
    "    return a+b \n",
    "\n",
    "#print(functools.reduce(func,range(11)))\n",
    "print(functools.reduce(func,[1,2,3]))"
   ]
  },
  {
   "cell_type": "code",
   "execution_count": 155,
   "metadata": {},
   "outputs": [
    {
     "name": "stdout",
     "output_type": "stream",
     "text": [
      "[1, 3, 6, 10, 15, 21, 28, 36, 45, 55]\n"
     ]
    }
   ],
   "source": [
    "#itertools accumulate\n",
    "\n",
    "import itertools\n",
    "\n",
    "def func(a,b):\n",
    "    return a+b\n",
    "\n",
    "l = [1,2,3,4,5,6,7,8,9,10]\n",
    "\n",
    "list2 = list(itertools.accumulate(l,func))\n",
    "print(list2)"
   ]
  },
  {
   "cell_type": "code",
   "execution_count": 159,
   "metadata": {},
   "outputs": [
    {
     "name": "stdout",
     "output_type": "stream",
     "text": [
      "[1, 2, 3, 4, 5, 6, 7, 8, 9, 10, 11, 12, 13, 14, 15, 16, 17, 18, 19, 20, 21, 22, 23, 24, 25, 26, 27, 28, 29, 30, 31, 32, 33, 34, 35, 36, 37, 38]\n"
     ]
    }
   ],
   "source": [
    "#itertools chain\n",
    "\n",
    "import itertools\n",
    "\n",
    "l1 = [1,2,3,4,5]\n",
    "l2 = [6,7,8,9,10]\n",
    "l3 = range(11,39)\n",
    "lfull = list(itertools.chain(l1,l2,l3))\n",
    "print(lfull)"
   ]
  },
  {
   "cell_type": "code",
   "execution_count": 167,
   "metadata": {},
   "outputs": [
    {
     "name": "stdout",
     "output_type": "stream",
     "text": [
      "<itertools.combinations object at 0x0000029187223EC0>\n",
      "[('hyderabad', 'banglore', 'chennai'), ('hyderabad', 'banglore', 'mumbai'), ('hyderabad', 'banglore', 'delhi'), ('hyderabad', 'chennai', 'mumbai'), ('hyderabad', 'chennai', 'delhi'), ('hyderabad', 'mumbai', 'delhi'), ('banglore', 'chennai', 'mumbai'), ('banglore', 'chennai', 'delhi'), ('banglore', 'mumbai', 'delhi'), ('chennai', 'mumbai', 'delhi')]\n",
      "[('hyderabad', 'banglore', 'chennai'), ('hyderabad', 'banglore', 'mumbai'), ('hyderabad', 'banglore', 'delhi'), ('hyderabad', 'chennai', 'banglore'), ('hyderabad', 'chennai', 'mumbai'), ('hyderabad', 'chennai', 'delhi'), ('hyderabad', 'mumbai', 'banglore'), ('hyderabad', 'mumbai', 'chennai'), ('hyderabad', 'mumbai', 'delhi'), ('hyderabad', 'delhi', 'banglore'), ('hyderabad', 'delhi', 'chennai'), ('hyderabad', 'delhi', 'mumbai'), ('banglore', 'hyderabad', 'chennai'), ('banglore', 'hyderabad', 'mumbai'), ('banglore', 'hyderabad', 'delhi'), ('banglore', 'chennai', 'hyderabad'), ('banglore', 'chennai', 'mumbai'), ('banglore', 'chennai', 'delhi'), ('banglore', 'mumbai', 'hyderabad'), ('banglore', 'mumbai', 'chennai'), ('banglore', 'mumbai', 'delhi'), ('banglore', 'delhi', 'hyderabad'), ('banglore', 'delhi', 'chennai'), ('banglore', 'delhi', 'mumbai'), ('chennai', 'hyderabad', 'banglore'), ('chennai', 'hyderabad', 'mumbai'), ('chennai', 'hyderabad', 'delhi'), ('chennai', 'banglore', 'hyderabad'), ('chennai', 'banglore', 'mumbai'), ('chennai', 'banglore', 'delhi'), ('chennai', 'mumbai', 'hyderabad'), ('chennai', 'mumbai', 'banglore'), ('chennai', 'mumbai', 'delhi'), ('chennai', 'delhi', 'hyderabad'), ('chennai', 'delhi', 'banglore'), ('chennai', 'delhi', 'mumbai'), ('mumbai', 'hyderabad', 'banglore'), ('mumbai', 'hyderabad', 'chennai'), ('mumbai', 'hyderabad', 'delhi'), ('mumbai', 'banglore', 'hyderabad'), ('mumbai', 'banglore', 'chennai'), ('mumbai', 'banglore', 'delhi'), ('mumbai', 'chennai', 'hyderabad'), ('mumbai', 'chennai', 'banglore'), ('mumbai', 'chennai', 'delhi'), ('mumbai', 'delhi', 'hyderabad'), ('mumbai', 'delhi', 'banglore'), ('mumbai', 'delhi', 'chennai'), ('delhi', 'hyderabad', 'banglore'), ('delhi', 'hyderabad', 'chennai'), ('delhi', 'hyderabad', 'mumbai'), ('delhi', 'banglore', 'hyderabad'), ('delhi', 'banglore', 'chennai'), ('delhi', 'banglore', 'mumbai'), ('delhi', 'chennai', 'hyderabad'), ('delhi', 'chennai', 'banglore'), ('delhi', 'chennai', 'mumbai'), ('delhi', 'mumbai', 'hyderabad'), ('delhi', 'mumbai', 'banglore'), ('delhi', 'mumbai', 'chennai')]\n"
     ]
    }
   ],
   "source": [
    "#permutations and combinations\n",
    "import itertools\n",
    "\n",
    "list_of_cities = [\"hyderabad\",\"banglore\",\"chennai\",\"mumbai\",\"delhi\"]\n",
    "list_of_house = [\"house1\",\"house2\",\"house3\",\"house4\",\"house5\"]\n",
    "combination = itertools.combinations(list_of_cities,3)\n",
    "\n",
    "print(combination)\n",
    "print(list(combination))\n",
    "\n",
    "permutations = itertools.permutations(list_of_cities,3)\n",
    "print(list(permutations))"
   ]
  },
  {
   "cell_type": "code",
   "execution_count": 182,
   "metadata": {},
   "outputs": [
    {
     "name": "stdout",
     "output_type": "stream",
     "text": [
      "900\n",
      "This is a wrapper function start\n",
      "1267650600228229401496703205376\n",
      "Wrapper function end\n",
      "entering process 3\n",
      "entering process 2\n",
      "Entering process 1\n",
      "-28\n"
     ]
    }
   ],
   "source": [
    "#decorators\n",
    "\n",
    "def func(a,b):\n",
    "    print(a-b)\n",
    "\n",
    "def decorator(func):\n",
    "    def inner(a,b):\n",
    "        if a<b:\n",
    "            a,b = b,a\n",
    "        return func(a,b)\n",
    "    return inner\n",
    "\n",
    "\n",
    "func = decorator(func)\n",
    "func(100,1000)\n",
    "\n",
    "def another_decorator(func):\n",
    "    def inner(*args,**kwargs):\n",
    "        print(\"This is a wrapper function start\")\n",
    "        func(*args,**kwargs)\n",
    "        print(\"Wrapper function end\")\n",
    "    return inner\n",
    "\n",
    "@another_decorator\n",
    "def func(a,b):\n",
    "    print(a**b)\n",
    "\n",
    "func(2,100)\n",
    "\n",
    "def decorator_steamline(func):\n",
    "    def process1(*args,**kwargs):\n",
    "        print(\"Entering process 1\")\n",
    "        \n",
    "        return 1-func(*args,**kwargs)\n",
    "    \n",
    "    def process2(*args,**kwargs):\n",
    "        print(\"entering process 2\")\n",
    "        \n",
    "        return 2-process1(*args,**kwargs)\n",
    "    \n",
    "    def process3(*args,**kwargs):\n",
    "        print(\"entering process 3\")\n",
    "        return 3-process2(*args,**kwargs)\n",
    "    \n",
    "    return process3\n",
    "\n",
    "@decorator_steamline\n",
    "def func2(a,b):\n",
    "    return a+b\n",
    "\n",
    "print(func2(10,20))"
   ]
  },
  {
   "cell_type": "code",
   "execution_count": 185,
   "metadata": {},
   "outputs": [
    {
     "name": "stdout",
     "output_type": "stream",
     "text": [
      "Counter({' ': 4, 'h': 2, 'i': 2, 'a': 2, 'r': 2, 'e': 2, 'm': 1, 'j': 1, 'u': 1, 'n': 1})\n"
     ]
    }
   ],
   "source": [
    "#counter in python\n",
    "\n",
    "import collections\n",
    "\n",
    "a = \"hi i am arjun here\"\n",
    "counter = collections.Counter(a)\n",
    "print(counter)"
   ]
  },
  {
   "cell_type": "code",
   "execution_count": 190,
   "metadata": {},
   "outputs": [
    {
     "name": "stdout",
     "output_type": "stream",
     "text": [
      "deque([1, 2, 3, 4, 5])\n",
      "deque([0, 1, 2, 3, 4, 5])\n",
      "deque([0, 1, 2, 3, 4, 5, 9])\n",
      "deque([0, 1, 2, 3, 4, 5])\n",
      "deque([1, 2, 3, 4, 5])\n"
     ]
    }
   ],
   "source": [
    "#deque\n",
    "\n",
    "import collections\n",
    "\n",
    "queue = collections.deque()\n",
    "\n",
    "queue.append(1)\n",
    "queue.append(2)\n",
    "queue.append(3)\n",
    "queue.append(4)\n",
    "queue.append(5)\n",
    "\n",
    "print(queue)\n",
    "\n",
    "queue.appendleft(0)\n",
    "print(queue)\n",
    "\n",
    "queue.append(9)\n",
    "print(queue)\n",
    "\n",
    "queue.pop()\n",
    "print(queue)\n",
    "\n",
    "queue.popleft()\n",
    "print(queue)"
   ]
  },
  {
   "cell_type": "code",
   "execution_count": 197,
   "metadata": {},
   "outputs": [
    {
     "name": "stdout",
     "output_type": "stream",
     "text": [
      "1\n",
      "2\n",
      "defaultdict(<function <lambda> at 0x00000291872E5D00>, {'a': 1, 'b': 2, 'c': 3, 'd': 4})\n",
      "key not found\n",
      "defaultdict(<class 'int'>, {'h': 2, 'i': 2, ' ': 4, 'a': 2, 'm': 1, 'r': 2, 'j': 1, 'u': 1, 'n': 1, 'e': 2})\n"
     ]
    }
   ],
   "source": [
    "#default dict\n",
    "\n",
    "import collections\n",
    "\n",
    "d = collections.defaultdict(lambda: \"key not found\")\n",
    "d[\"a\"] = 1\n",
    "d[\"b\"] = 2\n",
    "d[\"c\"] = 3\n",
    "d[\"d\"] = 4\n",
    "\n",
    "print(d[\"a\"])\n",
    "print(d[\"b\"])\n",
    "print(d)\n",
    "print(d[\"e\"])\n",
    "\n",
    "count = collections.defaultdict(int)\n",
    "\n",
    "for i in a:\n",
    "    count[i] += 1\n",
    "\n",
    "print(count)"
   ]
  },
  {
   "cell_type": "code",
   "execution_count": 203,
   "metadata": {},
   "outputs": [
    {
     "name": "stdout",
     "output_type": "stream",
     "text": [
      "student(name='arjun', age=20, qualification='btech')\n",
      "student(name='sai', age=20, qualification='btech')\n",
      "arjun\n"
     ]
    }
   ],
   "source": [
    "#named tuple\n",
    "\n",
    "import collections\n",
    "\n",
    "a = collections.namedtuple(\"student\",[\"name\",\"age\",\"qualification\"])\n",
    "s1 = a(\"arjun\",20,\"btech\")\n",
    "\n",
    "print(s1)\n",
    "s2 = a(name = \"sai\",age = 20,qualification = \"btech\")\n",
    "print(s2)\n",
    "\n",
    "print(s1.name)"
   ]
  },
  {
   "cell_type": "code",
   "execution_count": 208,
   "metadata": {},
   "outputs": [
    {
     "name": "stdout",
     "output_type": "stream",
     "text": [
      "{'a': 4, 'b': 2, 'e': 9, 'c': 3}\n"
     ]
    }
   ],
   "source": [
    "#ordered dict\n",
    "\n",
    "import collections\n",
    "\n",
    "d = collections.OrderedDict()\n",
    "d[\"a\"] = 1\n",
    "d[\"b\"] = 2\n",
    "d[\"e\"] = 9\n",
    "d[\"c\"] = 3\n",
    "d[\"a\"] = 4\n",
    "\n",
    "\n",
    "print(dict(d))"
   ]
  },
  {
   "cell_type": "code",
   "execution_count": null,
   "metadata": {},
   "outputs": [],
   "source": []
  }
 ],
 "metadata": {
  "kernelspec": {
   "display_name": "Python 3",
   "language": "python",
   "name": "python3"
  },
  "language_info": {
   "codemirror_mode": {
    "name": "ipython",
    "version": 3
   },
   "file_extension": ".py",
   "mimetype": "text/x-python",
   "name": "python",
   "nbconvert_exporter": "python",
   "pygments_lexer": "ipython3",
   "version": "3.11.3"
  },
  "orig_nbformat": 4
 },
 "nbformat": 4,
 "nbformat_minor": 2
}
