{
 "cells": [
  {
   "cell_type": "markdown",
   "metadata": {},
   "source": [
    "pattern of asterisk in incresing order"
   ]
  },
  {
   "cell_type": "code",
   "execution_count": 1,
   "metadata": {},
   "outputs": [
    {
     "name": "stdout",
     "output_type": "stream",
     "text": [
      "\n",
      "*\n",
      "**\n",
      "***\n",
      "****\n",
      "*****\n",
      "******\n",
      "*******\n",
      "********\n",
      "*********\n"
     ]
    }
   ],
   "source": [
    "n = 10\n",
    "for i in range(n):\n",
    "    print(\"*\"*i,end=\"\")\n",
    "    print()"
   ]
  },
  {
   "cell_type": "code",
   "execution_count": 3,
   "metadata": {},
   "outputs": [
    {
     "name": "stdout",
     "output_type": "stream",
     "text": [
      "1\n",
      "22\n",
      "333\n",
      "4444\n",
      "55555\n",
      "666666\n",
      "7777777\n",
      "88888888\n",
      "999999999\n"
     ]
    }
   ],
   "source": [
    "#pattern of numbers in right triangle\n",
    "\n",
    "n = 9\n",
    "for i in range(1,n+1):\n",
    "    print(str(i)*i,end=\"\")\n",
    "    print()"
   ]
  },
  {
   "cell_type": "code",
   "execution_count": 27,
   "metadata": {},
   "outputs": [
    {
     "name": "stdout",
     "output_type": "stream",
     "text": [
      "    1 \n",
      "   2 2 \n",
      "  3 3 3 \n",
      " 4 4 4 4 \n",
      "5 5 5 5 5 \n",
      "\n",
      "    1\n",
      "   222\n",
      "  33333\n",
      " 4444444\n",
      "555555555\n"
     ]
    }
   ],
   "source": [
    "#print numbers in pyramid shape\n",
    "n = 5\n",
    "for i in range(1,n+1):\n",
    "    for j in range(n-i):\n",
    "        print(end=\" \")\n",
    "    for j in range(i):\n",
    "        print(i,end=\" \")\n",
    "    print()\n",
    "\n",
    "print()\n",
    "for i in range(1,n+1):\n",
    "    print(\" \"*(n-i)+str(i)*(2*i-1))"
   ]
  },
  {
   "cell_type": "code",
   "execution_count": 28,
   "metadata": {},
   "outputs": [
    {
     "name": "stdout",
     "output_type": "stream",
     "text": [
      "    1\n",
      "   222\n",
      "  33333\n",
      " 4444444\n",
      "555555555\n"
     ]
    }
   ],
   "source": [
    "n = 5\n",
    "for i in range(1,n+1):\n",
    "    print(\" \"*(n-i)+str(i)*(2*i-1))"
   ]
  },
  {
   "cell_type": "code",
   "execution_count": 54,
   "metadata": {},
   "outputs": [
    {
     "name": "stdout",
     "output_type": "stream",
     "text": [
      "     \n",
      "    A\n",
      "   BBB\n",
      "  CCCCC\n",
      " DDDDDDD\n",
      "EEEEEEEEE\n",
      "\n",
      "\n",
      "A \n",
      "B B \n",
      "C C C \n",
      "D D D D \n",
      "E E E E E \n"
     ]
    }
   ],
   "source": [
    "#character in incresing order\n",
    "\n",
    "n = 5\n",
    "start_char = ord('A')\n",
    "for i in range(n+1):\n",
    "    print(\" \"*(n-i)+chr(start_char+i-1)*(2*i-1))\n",
    "\n",
    "for i in range(n+2):\n",
    "    print((chr(start_char+i-2)+\" \")*(i-1))"
   ]
  },
  {
   "cell_type": "code",
   "execution_count": 118,
   "metadata": {},
   "outputs": [
    {
     "name": "stdout",
     "output_type": "stream",
     "text": [
      "\n",
      "\n",
      "A \n",
      "B B \n",
      "C C C \n",
      "D D D D \n",
      "E E E E E \n",
      "\n",
      "A A A A A \n",
      "B B B B \n",
      "C C C \n",
      "D D \n",
      "E \n"
     ]
    }
   ],
   "source": [
    "n = 5\n",
    "for i in range(n+2):\n",
    "    print((chr(start_char+i-2)+\" \")*(i-1))\n",
    "print()\n",
    "for i in range(n):\n",
    "    print((chr(start_char+i)+\" \")*(n-i))"
   ]
  },
  {
   "cell_type": "code",
   "execution_count": 77,
   "metadata": {},
   "outputs": [
    {
     "name": "stdout",
     "output_type": "stream",
     "text": [
      "A A A A A \n",
      "B B B B \n",
      "C C C \n",
      "D D \n",
      "E \n"
     ]
    }
   ],
   "source": [
    "#print the pattern of alphabets in reverse triangle\n",
    "\n",
    "n = 5\n",
    "start_char = ord('A')\n",
    "\n",
    "for i in range(n):\n",
    "    print((chr(start_char+i)+\" \")*(n-i))\n",
    "\n"
   ]
  },
  {
   "cell_type": "code",
   "execution_count": 102,
   "metadata": {},
   "outputs": [
    {
     "name": "stdout",
     "output_type": "stream",
     "text": [
      "A A A A A  \n",
      "B B B B   \n",
      "C C C    \n",
      "D D     \n",
      "E      \n"
     ]
    }
   ],
   "source": [
    "n = 5\n",
    "for i in range(n):\n",
    "    for j in range(n-i):\n",
    "        print(chr(start_char+i),end=\" \")\n",
    "    for j in range(i+1):\n",
    "        print(end=\" \")\n",
    "    print()"
   ]
  },
  {
   "cell_type": "code",
   "execution_count": 101,
   "metadata": {},
   "outputs": [
    {
     "name": "stdout",
     "output_type": "stream",
     "text": [
      "AAAAAAAAA\n",
      " BBBBBBB\n",
      "  CCCCC\n",
      "   DDD\n",
      "    E\n"
     ]
    }
   ],
   "source": [
    "n = 5\n",
    "for i in range(n,0,-1):\n",
    "    print(\" \"*(n-i)+chr(start_char+n-i)*(2*i-1))"
   ]
  },
  {
   "cell_type": "code",
   "execution_count": 163,
   "metadata": {},
   "outputs": [
    {
     "name": "stdout",
     "output_type": "stream",
     "text": [
      "     \n",
      "    A\n",
      "   BBB\n",
      "  CCCCC\n",
      " DDDDDDD\n",
      "EEEEEEEEE\n",
      " DDDDDDD\n",
      "  CCCCC\n",
      "   BBB\n",
      "    A\n"
     ]
    }
   ],
   "source": [
    "#diamond alphabet pattern\n",
    "\n",
    "n = 5\n",
    "start_char = ord('A')\n",
    " \n",
    "for i in range(n+1):\n",
    "    print(\" \"*(n-i)+chr(start_char+i-1)*(2*i-1))\n",
    "\n",
    "for i in range(n-1,0,-1):\n",
    "    print(\" \"*(n-i)+chr(start_char+i-1)*(2*i-1))\n",
    "\n"
   ]
  },
  {
   "cell_type": "code",
   "execution_count": 168,
   "metadata": {},
   "outputs": [
    {
     "name": "stdout",
     "output_type": "stream",
     "text": [
      "    1 \n",
      "   2 2 \n",
      "  3 3 3 \n",
      " 4 4 4 4 \n",
      "5 5 5 5 5 \n",
      "\n",
      "    1 \n",
      "   2 2 \n",
      "  3 3 3 \n",
      " 4 4 4 4 \n",
      "5 5 5 5 5 \n"
     ]
    }
   ],
   "source": [
    "#staircase pattern number\n",
    "\n",
    "n = 5\n",
    "\n",
    "for i in range(1,n+1):\n",
    "    for j in range(n-i):\n",
    "        print(end=\" \")\n",
    "    for j in range(i):\n",
    "        print(i,end=\" \")\n",
    "    print()\n",
    "print()\n",
    "\n",
    "for i in range(1,n+1):\n",
    "    print(\" \"*(n-i)+(str(i)+\" \")*(i))"
   ]
  },
  {
   "cell_type": "code",
   "execution_count": 172,
   "metadata": {},
   "outputs": [
    {
     "name": "stdout",
     "output_type": "stream",
     "text": [
      "    1 \n",
      "   2 2 \n",
      "  3 3 3 \n",
      " 4 4 4 4 \n",
      "5 5 5 5 5 \n",
      " 4 4 4 4 \n",
      "  3 3 3 \n",
      "   2 2 \n",
      "    1 \n"
     ]
    }
   ],
   "source": [
    "#pattern of numbers in diamond shape\n",
    "\n",
    "n = 5\n",
    "\n",
    "for i in range(1,n+1):\n",
    "    print(\" \"*(n-i)+(str(i)+\" \")*(i))\n",
    "for i in range(n-1,0,-1):\n",
    "    print(\" \"*(n-i)+(str(i)+\" \")*i)"
   ]
  },
  {
   "cell_type": "code",
   "execution_count": 177,
   "metadata": {},
   "outputs": [
    {
     "name": "stdout",
     "output_type": "stream",
     "text": [
      "@@@@@\n",
      "!!!!!\n",
      "@@@@@\n",
      "!!!!!\n",
      "@@@@@\n"
     ]
    }
   ],
   "source": [
    "#squre with alternating characters\n",
    "\n",
    "n = 5\n",
    "\n",
    "for i in range(n):\n",
    "    if i%2==0:\n",
    "        print(\"@\"*n)\n",
    "    else:\n",
    "        print(\"!\"*n)"
   ]
  },
  {
   "cell_type": "code",
   "execution_count": 180,
   "metadata": {},
   "outputs": [
    {
     "name": "stdout",
     "output_type": "stream",
     "text": [
      "*****\n",
      "*   *\n",
      "*   *\n",
      "*   *\n",
      "*****\n"
     ]
    }
   ],
   "source": [
    "#hollow square\n",
    "\n",
    "n = 5 \n",
    "\n",
    "for i in range(n):\n",
    "    if i==0 or i==n-1:\n",
    "        print(\"*\"*n)\n",
    "    else:\n",
    "        print(\"*\"+\" \"*(n-2)+\"*\")\n",
    "    "
   ]
  },
  {
   "cell_type": "code",
   "execution_count": 182,
   "metadata": {},
   "outputs": [
    {
     "name": "stdout",
     "output_type": "stream",
     "text": [
      "    1\n",
      "   2 3\n",
      "  3 4 5\n",
      " 4 5 6 7\n",
      "5 6 7 8 9\n",
      " 4 5 6 7\n",
      "  3 4 5\n",
      "   2 3\n",
      "    1\n"
     ]
    }
   ],
   "source": [
    "#incremental pattern of number in diamond shape\n",
    "\n",
    "n = 5\n",
    "\n",
    "for i in range(1,n+1):\n",
    "    print(\" \"*(n-i)+\" \".join(str(k) for k in range(i,2*i)))\n",
    "for i in range(n-1,0,-1):\n",
    "    print(\" \"*(n-i)+\" \".join(str(k) for k in range(i,2*i)))"
   ]
  },
  {
   "cell_type": "code",
   "execution_count": 188,
   "metadata": {},
   "outputs": [
    {
     "name": "stdout",
     "output_type": "stream",
     "text": [
      "A B C D E\n",
      "B       B\n",
      "C       C\n",
      "D       D\n",
      "A B C D E\n"
     ]
    }
   ],
   "source": [
    "#alphabet in hollow square\n",
    "\n",
    "n = 5\n",
    "\n",
    "for i in range(n):\n",
    "    if i == 0 or i == n-1:\n",
    "        print(\" \".join(chr(start_char+j) for j in range(n)))\n",
    "    else:\n",
    "        print(chr(start_char+i)+\" \"*(n+2)+ chr(start_char+i))"
   ]
  },
  {
   "cell_type": "code",
   "execution_count": 234,
   "metadata": {},
   "outputs": [
    {
     "name": "stdout",
     "output_type": "stream",
     "text": [
      "    A\n",
      "   B C\n",
      "  D E F\n",
      " G H I J\n",
      "K L M N O\n",
      " G H I J\n",
      "  D E F\n",
      "   B C\n",
      "    A\n"
     ]
    }
   ],
   "source": [
    "#alphabet pattern diamond shape\n",
    "\n",
    "n = 5\n",
    "start_char = ord('A')\n",
    "\n",
    "for i in range(1,n+1):\n",
    "    print(\" \"*(n-i)+\" \".join(chr(start_char+j) for j in range(i)))\n",
    "    if i!=n:\n",
    "        start_char+=i\n",
    "\n",
    "for i in range(n-1,0,-1):\n",
    "    start_char-=i\n",
    "    print(\" \"*(n-i)+\" \".join(chr(start_char+j) for j in range(i)))"
   ]
  },
  {
   "cell_type": "code",
   "execution_count": 255,
   "metadata": {},
   "outputs": [
    {
     "name": "stdout",
     "output_type": "stream",
     "text": [
      "    * \n",
      "   * * \n",
      "  *   *\n",
      " *     *\n",
      "*       *\n",
      " *     *\n",
      "  *   *\n",
      "   * * \n",
      "    * \n"
     ]
    }
   ],
   "source": [
    "#hollow diamond\n",
    "n = 5\n",
    "for i in range(1,n+1):\n",
    "    if i==1 or i==2:\n",
    "        print(\" \"*(n-i)+(\"*\"+\" \")*i)\n",
    "    else:\n",
    "        print(\" \"*(n-i)+\"*\"+\" \"*(2*i-3) + \"*\")\n",
    "\n",
    "for i in range(n-1,0,-1):\n",
    "    if i==1 or i==2:\n",
    "        print(\" \"*(n-i)+(\"*\"+\" \")*i)\n",
    "    else:\n",
    "        print(\" \"*(n-i)+\"*\"+\" \"*(2*i-3)+\"*\")\n"
   ]
  },
  {
   "cell_type": "code",
   "execution_count": null,
   "metadata": {},
   "outputs": [],
   "source": []
  }
 ],
 "metadata": {
  "kernelspec": {
   "display_name": "Python 3",
   "language": "python",
   "name": "python3"
  },
  "language_info": {
   "codemirror_mode": {
    "name": "ipython",
    "version": 3
   },
   "file_extension": ".py",
   "mimetype": "text/x-python",
   "name": "python",
   "nbconvert_exporter": "python",
   "pygments_lexer": "ipython3",
   "version": "3.11.3"
  },
  "orig_nbformat": 4
 },
 "nbformat": 4,
 "nbformat_minor": 2
}
